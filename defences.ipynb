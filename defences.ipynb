{
 "cells": [
  {
   "cell_type": "markdown",
   "id": "5e2eb137-3767-4806-be19-1891d7cbbb2e",
   "metadata": {},
   "source": [
    "# Detecting adversarial examples\n",
    "This notebook implements four different adversarial detection methods."
   ]
  },
  {
   "cell_type": "code",
   "execution_count": 1,
   "id": "211b5414-0e14-4b6b-86d4-74bae8e5d071",
   "metadata": {
    "execution": {
     "iopub.execute_input": "2023-05-24T09:30:59.177004Z",
     "iopub.status.busy": "2023-05-24T09:30:59.175922Z",
     "iopub.status.idle": "2023-05-24T09:31:01.700425Z",
     "shell.execute_reply": "2023-05-24T09:31:01.699811Z",
     "shell.execute_reply.started": "2023-05-24T09:30:59.176928Z"
    }
   },
   "outputs": [],
   "source": [
    "import numpy as np\n",
    "import matplotlib.pyplot as plt\n",
    "from tqdm import tqdm\n",
    "import torch\n",
    "import torch.nn as nn\n",
    "import torch.nn.functional as F\n",
    "from torch.utils.data import DataLoader\n",
    "from torchvision import transforms\n",
    "from torchvision.datasets import ImageFolder"
   ]
  },
  {
   "cell_type": "markdown",
   "id": "7d7b69df-53c6-4f7c-945f-a4de21bbdc98",
   "metadata": {},
   "source": [
    "## Preparing data\n",
    "* Preparing original dataset\n",
    "* Downloading clean and adversarial images from the previous step. Splitting them into train and test subsets."
   ]
  },
  {
   "cell_type": "code",
   "execution_count": 2,
   "id": "62652e1c-1908-41d8-aa41-7b56a4d313f5",
   "metadata": {
    "execution": {
     "iopub.execute_input": "2023-05-24T09:31:01.756760Z",
     "iopub.status.busy": "2023-05-24T09:31:01.755823Z",
     "iopub.status.idle": "2023-05-24T09:31:03.466721Z",
     "shell.execute_reply": "2023-05-24T09:31:03.466069Z",
     "shell.execute_reply.started": "2023-05-24T09:31:01.756732Z"
    }
   },
   "outputs": [],
   "source": [
    "X_clean = torch.load('data/clean_examples.pt')\n",
    "X_fgsm = torch.load('data/FGSM_examples.pt')\n",
    "X_bim = torch.load('data/BIM_examples.pt')\n",
    "X_deepfool = torch.load('data/DeepFool_examples.pt')\n",
    "X_cw = torch.load('data/CW_examples.pt')"
   ]
  },
  {
   "cell_type": "code",
   "execution_count": 3,
   "id": "b606c241-bf4d-4c7c-ac47-cbb183198ec3",
   "metadata": {
    "execution": {
     "iopub.execute_input": "2023-05-24T09:31:03.468451Z",
     "iopub.status.busy": "2023-05-24T09:31:03.467806Z",
     "iopub.status.idle": "2023-05-24T09:31:03.471346Z",
     "shell.execute_reply": "2023-05-24T09:31:03.470871Z",
     "shell.execute_reply.started": "2023-05-24T09:31:03.468421Z"
    }
   },
   "outputs": [],
   "source": [
    "dataset_tar_path = './CINIC-10.tar.gz'\n",
    "dataset_root = './cinic_root'\n",
    "dataset_name = 'CINIC-10'"
   ]
  },
  {
   "cell_type": "code",
   "execution_count": 4,
   "id": "9c09fc7d-95e6-47f9-9c9c-62c96ba22963",
   "metadata": {
    "execution": {
     "iopub.execute_input": "2023-05-24T09:31:04.356609Z",
     "iopub.status.busy": "2023-05-24T09:31:04.354930Z",
     "iopub.status.idle": "2023-05-24T09:31:04.364272Z",
     "shell.execute_reply": "2023-05-24T09:31:04.362127Z",
     "shell.execute_reply.started": "2023-05-24T09:31:04.356531Z"
    }
   },
   "outputs": [],
   "source": [
    "cinic_mean = [0.47889522, 0.47227842, 0.43047404]\n",
    "cinic_std = [0.24205776, 0.23828046, 0.25874835]"
   ]
  },
  {
   "cell_type": "code",
   "execution_count": 5,
   "id": "5d1d5978-e0e7-4778-8cc6-26711c47fd1b",
   "metadata": {
    "execution": {
     "iopub.execute_input": "2023-05-24T09:31:05.057081Z",
     "iopub.status.busy": "2023-05-24T09:31:05.055468Z",
     "iopub.status.idle": "2023-05-24T09:31:05.062388Z",
     "shell.execute_reply": "2023-05-24T09:31:05.061506Z",
     "shell.execute_reply.started": "2023-05-24T09:31:05.057019Z"
    }
   },
   "outputs": [],
   "source": [
    "cinic_inv_mean = [-0.47889522, -0.47227842, -0.43047404]\n",
    "cinic_inv_std = [1.0/0.24205776, 1.0/0.23828046, 1.0/0.25874835]"
   ]
  },
  {
   "cell_type": "code",
   "execution_count": 6,
   "id": "863dc596-f03a-4fda-b25d-cbe18c1f3abe",
   "metadata": {
    "execution": {
     "iopub.execute_input": "2023-05-23T10:30:36.762076Z",
     "iopub.status.busy": "2023-05-23T10:30:36.761308Z",
     "iopub.status.idle": "2023-05-23T10:30:38.273418Z",
     "shell.execute_reply": "2023-05-23T10:30:38.272715Z",
     "shell.execute_reply.started": "2023-05-23T10:30:36.762055Z"
    }
   },
   "outputs": [
    {
     "name": "stderr",
     "output_type": "stream",
     "text": [
      "\n",
      "KeyboardInterrupt\n",
      "\n"
     ]
    }
   ],
   "source": [
    "import tarfile\n",
    "\n",
    "dataset_tar = tarfile.open(dataset_tar_path)\n",
    "dataset_tar.extractall(dataset_root)\n",
    "dataset_tar.close()"
   ]
  },
  {
   "cell_type": "code",
   "execution_count": 6,
   "id": "ed3cf067-b294-4936-80c8-5dd29909cc6e",
   "metadata": {
    "execution": {
     "iopub.execute_input": "2023-05-24T09:31:06.291189Z",
     "iopub.status.busy": "2023-05-24T09:31:06.290619Z",
     "iopub.status.idle": "2023-05-24T09:31:06.295681Z",
     "shell.execute_reply": "2023-05-24T09:31:06.295195Z",
     "shell.execute_reply.started": "2023-05-24T09:31:06.291136Z"
    }
   },
   "outputs": [],
   "source": [
    "tf = transforms.Compose([transforms.ToTensor(), transforms.Normalize(mean=cinic_mean,std=cinic_std)])\n",
    "# for showing images that will be crafted later\n",
    "tf_denorm = transforms.Compose([transforms.Normalize(mean=[0., 0., 0.], std=cinic_inv_std), \\\n",
    "                               transforms.Normalize(mean=cinic_inv_mean, std=[1., 1., 1.])])\n",
    "tf_norm = transforms.Normalize(mean=cinic_mean,std=cinic_std)"
   ]
  },
  {
   "cell_type": "code",
   "execution_count": 7,
   "id": "8ccd8ae7-10c8-42d4-bf8a-d0be4bf98639",
   "metadata": {
    "execution": {
     "iopub.execute_input": "2023-05-24T09:31:07.535210Z",
     "iopub.status.busy": "2023-05-24T09:31:07.534372Z",
     "iopub.status.idle": "2023-05-24T09:31:12.652509Z",
     "shell.execute_reply": "2023-05-24T09:31:12.651930Z",
     "shell.execute_reply.started": "2023-05-24T09:31:07.535183Z"
    }
   },
   "outputs": [],
   "source": [
    "train_data = ImageFolder(dataset_root + '/train', transform=tf)\n",
    "valid_data = ImageFolder(dataset_root + '/valid', transform=tf)\n",
    "test_data = ImageFolder(dataset_root + '/test', transform=tf)"
   ]
  },
  {
   "cell_type": "code",
   "execution_count": 8,
   "id": "5573844a-5fe8-4919-8ae4-6657b1728611",
   "metadata": {
    "execution": {
     "iopub.execute_input": "2023-05-24T09:31:12.654319Z",
     "iopub.status.busy": "2023-05-24T09:31:12.653533Z",
     "iopub.status.idle": "2023-05-24T09:31:12.658092Z",
     "shell.execute_reply": "2023-05-24T09:31:12.657634Z",
     "shell.execute_reply.started": "2023-05-24T09:31:12.654292Z"
    }
   },
   "outputs": [],
   "source": [
    "train_loader = DataLoader(train_data, batch_size=256, shuffle=True)\n",
    "valid_loader = DataLoader(valid_data, batch_size=256, shuffle=True)\n",
    "test_loader = DataLoader(test_data, batch_size=256, shuffle=True)"
   ]
  },
  {
   "cell_type": "markdown",
   "id": "e70faa85-436b-48f1-9e31-65a132fa1a0c",
   "metadata": {},
   "source": [
    "## Preparing target model"
   ]
  },
  {
   "cell_type": "code",
   "execution_count": 52,
   "id": "d6795ba8-8129-4ee8-96b9-a3f7d2137ff0",
   "metadata": {
    "execution": {
     "iopub.execute_input": "2023-05-24T10:25:42.343214Z",
     "iopub.status.busy": "2023-05-24T10:25:42.342474Z",
     "iopub.status.idle": "2023-05-24T10:25:42.364753Z",
     "shell.execute_reply": "2023-05-24T10:25:42.363590Z",
     "shell.execute_reply.started": "2023-05-24T10:25:42.343148Z"
    }
   },
   "outputs": [],
   "source": [
    "'''\n",
    "  ResNet18 from a popular repository\n",
    "  url:https://github.com/kuangliu/pytorch-cifar/blob/master/models/resnet.py\n",
    "  Modification:\n",
    "  * a dropout layer for randomization\n",
    "'''\n",
    "\n",
    "class BasicBlock(nn.Module):\n",
    "    expansion = 1\n",
    "\n",
    "    def __init__(self, in_planes, planes, stride=1):\n",
    "        super(BasicBlock, self).__init__()\n",
    "        self.conv1 = nn.Conv2d(\n",
    "            in_planes, planes, kernel_size=3, stride=stride, padding=1, bias=False)\n",
    "        self.bn1 = nn.BatchNorm2d(planes)\n",
    "        self.conv2 = nn.Conv2d(planes, planes, kernel_size=3,\n",
    "                               stride=1, padding=1, bias=False)\n",
    "        self.bn2 = nn.BatchNorm2d(planes)\n",
    "\n",
    "        self.shortcut = nn.Sequential()\n",
    "        if stride != 1 or in_planes != self.expansion*planes:\n",
    "            self.shortcut = nn.Sequential(\n",
    "                nn.Conv2d(in_planes, self.expansion*planes,\n",
    "                          kernel_size=1, stride=stride, bias=False),\n",
    "                nn.BatchNorm2d(self.expansion*planes)\n",
    "            )\n",
    "\n",
    "    def forward(self, x):\n",
    "        out = F.relu(self.bn1(self.conv1(x)))\n",
    "        out = self.bn2(self.conv2(out))\n",
    "        out += self.shortcut(x)\n",
    "        out = F.relu(out)\n",
    "        return out\n",
    "\n",
    "'''\n",
    "class Bottleneck(nn.Module):\n",
    "    expansion = 4\n",
    "\n",
    "    def __init__(self, in_planes, planes, stride=1):\n",
    "        super(Bottleneck, self).__init__()\n",
    "        self.conv1 = nn.Conv2d(in_planes, planes, kernel_size=1, bias=False)\n",
    "        self.bn1 = nn.BatchNorm2d(planes)\n",
    "        self.conv2 = nn.Conv2d(planes, planes, kernel_size=3,\n",
    "                               stride=stride, padding=1, bias=False)\n",
    "        self.bn2 = nn.BatchNorm2d(planes)\n",
    "        self.conv3 = nn.Conv2d(planes, self.expansion *\n",
    "                               planes, kernel_size=1, bias=False)\n",
    "        self.bn3 = nn.BatchNorm2d(self.expansion*planes)\n",
    "\n",
    "        self.shortcut = nn.Sequential()\n",
    "        if stride != 1 or in_planes != self.expansion*planes:\n",
    "            self.shortcut = nn.Sequential(\n",
    "                nn.Conv2d(in_planes, self.expansion*planes,\n",
    "                          kernel_size=1, stride=stride, bias=False),\n",
    "                nn.BatchNorm2d(self.expansion*planes)\n",
    "            )\n",
    "\n",
    "    def forward(self, x):\n",
    "        out = F.relu(self.bn1(self.conv1(x)))\n",
    "        out = F.relu(self.bn2(self.conv2(out)))\n",
    "        out = self.bn3(self.conv3(out))\n",
    "        out += self.shortcut(x)\n",
    "        out = F.relu(out)\n",
    "        return out\n",
    "'''\n",
    "\n",
    "class ResNet(nn.Module):\n",
    "    def __init__(self, block, num_blocks, num_classes=10):\n",
    "        super(ResNet, self).__init__()\n",
    "        self.in_planes = 64\n",
    "\n",
    "        self.conv1 = nn.Conv2d(3, 64, kernel_size=3,\n",
    "                               stride=1, padding=1, bias=False)\n",
    "        self.bn1 = nn.BatchNorm2d(64)\n",
    "        self.layer1 = self._make_layer(block, 64, num_blocks[0], stride=1)\n",
    "        self.layer2 = self._make_layer(block, 128, num_blocks[1], stride=2)\n",
    "        self.layer3 = self._make_layer(block, 256, num_blocks[2], stride=2)\n",
    "        self.layer4 = self._make_layer(block, 512, num_blocks[3], stride=2)\n",
    "        # dropout for mc-uncertainty\n",
    "        self.dr = nn.Dropout(0.5)\n",
    "        self.linear = nn.Linear(512*block.expansion, num_classes)\n",
    "\n",
    "    def _make_layer(self, block, planes, num_blocks, stride):\n",
    "        strides = [stride] + [1]*(num_blocks-1)\n",
    "        layers = []\n",
    "        for stride in strides:\n",
    "            layers.append(block(self.in_planes, planes, stride))\n",
    "            self.in_planes = planes * block.expansion\n",
    "        return nn.Sequential(*layers)\n",
    "\n",
    "    def forward(self, x):\n",
    "        out = F.relu(self.bn1(self.conv1(x)))\n",
    "        out = self.layer1(out)\n",
    "        out = self.layer2(out)\n",
    "        out = self.layer3(out)\n",
    "        out = self.layer4(out)\n",
    "        out = F.avg_pool2d(out, 4)\n",
    "        out = self.dr(out)\n",
    "        out = out.view(out.size(0), -1)\n",
    "        out = self.linear(out)\n",
    "        return out\n",
    "    \n",
    "    def get_hidden_output(self, x, layer_idx):\n",
    "        out = F.relu(self.bn1(self.conv1(x)))\n",
    "        if layer_idx == 0:\n",
    "            return out\n",
    "        out = self.layer1(out)\n",
    "        if layer_idx == 1:\n",
    "            return out\n",
    "        out = self.layer2(out)\n",
    "        if layer_idx == 2:\n",
    "            return out\n",
    "        out = self.layer3(out)\n",
    "        if layer_idx == 3:\n",
    "            return out\n",
    "        out = self.layer4(out)\n",
    "        if layer_idx == 4:\n",
    "            return out\n",
    "        out = F.avg_pool2d(out, 4)\n",
    "        if layer_idx == 5 or layer_idx == -1:\n",
    "            return out\n",
    "        out = self.dr(out)\n",
    "        out = out.view(out.size(0), -1)\n",
    "        out = self.linear(out)\n",
    "        return out\n",
    "\n",
    "\n",
    "def ResNet18():\n",
    "    return ResNet(BasicBlock, [2, 2, 2, 2])"
   ]
  },
  {
   "cell_type": "code",
   "execution_count": 83,
   "id": "f148759c-9e54-4ab7-b8aa-346bc50254c0",
   "metadata": {
    "execution": {
     "iopub.execute_input": "2023-05-24T10:32:23.848055Z",
     "iopub.status.busy": "2023-05-24T10:32:23.847306Z",
     "iopub.status.idle": "2023-05-24T10:32:24.123368Z",
     "shell.execute_reply": "2023-05-24T10:32:24.122461Z",
     "shell.execute_reply.started": "2023-05-24T10:32:23.848029Z"
    }
   },
   "outputs": [
    {
     "data": {
      "text/plain": [
       "<All keys matched successfully>"
      ]
     },
     "execution_count": 83,
     "metadata": {},
     "output_type": "execute_result"
    }
   ],
   "source": [
    "device = 'cuda' if torch.cuda.is_available() else 'cpu'\n",
    "model = ResNet18().to(device)\n",
    "model.load_state_dict(torch.load('resnet18_cinic_fin.pth'))"
   ]
  },
  {
   "cell_type": "code",
   "execution_count": 33,
   "id": "089f3017-7479-41b5-8b8d-edc771708b04",
   "metadata": {
    "execution": {
     "iopub.execute_input": "2023-05-24T10:22:24.460168Z",
     "iopub.status.busy": "2023-05-24T10:22:24.459370Z",
     "iopub.status.idle": "2023-05-24T10:22:28.191209Z",
     "shell.execute_reply": "2023-05-24T10:22:28.189069Z",
     "shell.execute_reply.started": "2023-05-24T10:22:24.460144Z"
    }
   },
   "outputs": [
    {
     "name": "stdout",
     "output_type": "stream",
     "text": [
      "Collecting torchsummary\n",
      "  Downloading torchsummary-1.5.1-py3-none-any.whl (2.8 kB)\n",
      "Installing collected packages: torchsummary\n",
      "Successfully installed torchsummary-1.5.1\n",
      "\u001b[33mWARNING: Running pip as the 'root' user can result in broken permissions and conflicting behaviour with the system package manager. It is recommended to use a virtual environment instead: https://pip.pypa.io/warnings/venv\u001b[0m\u001b[33m\n",
      "\u001b[0m----------------------------------------------------------------\n",
      "        Layer (type)               Output Shape         Param #\n",
      "================================================================\n",
      "            Conv2d-1           [-1, 64, 32, 32]           1,728\n",
      "       BatchNorm2d-2           [-1, 64, 32, 32]             128\n",
      "            Conv2d-3           [-1, 64, 32, 32]          36,864\n",
      "       BatchNorm2d-4           [-1, 64, 32, 32]             128\n",
      "            Conv2d-5           [-1, 64, 32, 32]          36,864\n",
      "       BatchNorm2d-6           [-1, 64, 32, 32]             128\n",
      "        BasicBlock-7           [-1, 64, 32, 32]               0\n",
      "            Conv2d-8           [-1, 64, 32, 32]          36,864\n",
      "       BatchNorm2d-9           [-1, 64, 32, 32]             128\n",
      "           Conv2d-10           [-1, 64, 32, 32]          36,864\n",
      "      BatchNorm2d-11           [-1, 64, 32, 32]             128\n",
      "       BasicBlock-12           [-1, 64, 32, 32]               0\n",
      "           Conv2d-13          [-1, 128, 16, 16]          73,728\n",
      "      BatchNorm2d-14          [-1, 128, 16, 16]             256\n",
      "           Conv2d-15          [-1, 128, 16, 16]         147,456\n",
      "      BatchNorm2d-16          [-1, 128, 16, 16]             256\n",
      "           Conv2d-17          [-1, 128, 16, 16]           8,192\n",
      "      BatchNorm2d-18          [-1, 128, 16, 16]             256\n",
      "       BasicBlock-19          [-1, 128, 16, 16]               0\n",
      "           Conv2d-20          [-1, 128, 16, 16]         147,456\n",
      "      BatchNorm2d-21          [-1, 128, 16, 16]             256\n",
      "           Conv2d-22          [-1, 128, 16, 16]         147,456\n",
      "      BatchNorm2d-23          [-1, 128, 16, 16]             256\n",
      "       BasicBlock-24          [-1, 128, 16, 16]               0\n",
      "           Conv2d-25            [-1, 256, 8, 8]         294,912\n",
      "      BatchNorm2d-26            [-1, 256, 8, 8]             512\n",
      "           Conv2d-27            [-1, 256, 8, 8]         589,824\n",
      "      BatchNorm2d-28            [-1, 256, 8, 8]             512\n",
      "           Conv2d-29            [-1, 256, 8, 8]          32,768\n",
      "      BatchNorm2d-30            [-1, 256, 8, 8]             512\n",
      "       BasicBlock-31            [-1, 256, 8, 8]               0\n",
      "           Conv2d-32            [-1, 256, 8, 8]         589,824\n",
      "      BatchNorm2d-33            [-1, 256, 8, 8]             512\n",
      "           Conv2d-34            [-1, 256, 8, 8]         589,824\n",
      "      BatchNorm2d-35            [-1, 256, 8, 8]             512\n",
      "       BasicBlock-36            [-1, 256, 8, 8]               0\n",
      "           Conv2d-37            [-1, 512, 4, 4]       1,179,648\n",
      "      BatchNorm2d-38            [-1, 512, 4, 4]           1,024\n",
      "           Conv2d-39            [-1, 512, 4, 4]       2,359,296\n",
      "      BatchNorm2d-40            [-1, 512, 4, 4]           1,024\n",
      "           Conv2d-41            [-1, 512, 4, 4]         131,072\n",
      "      BatchNorm2d-42            [-1, 512, 4, 4]           1,024\n",
      "       BasicBlock-43            [-1, 512, 4, 4]               0\n",
      "           Conv2d-44            [-1, 512, 4, 4]       2,359,296\n",
      "      BatchNorm2d-45            [-1, 512, 4, 4]           1,024\n",
      "           Conv2d-46            [-1, 512, 4, 4]       2,359,296\n",
      "      BatchNorm2d-47            [-1, 512, 4, 4]           1,024\n",
      "       BasicBlock-48            [-1, 512, 4, 4]               0\n",
      "          Dropout-49            [-1, 512, 1, 1]               0\n",
      "           Linear-50                   [-1, 10]           5,130\n",
      "================================================================\n",
      "Total params: 11,173,962\n",
      "Trainable params: 11,173,962\n",
      "Non-trainable params: 0\n",
      "----------------------------------------------------------------\n",
      "Input size (MB): 0.01\n",
      "Forward/backward pass size (MB): 11.25\n",
      "Params size (MB): 42.63\n",
      "Estimated Total Size (MB): 53.89\n",
      "----------------------------------------------------------------\n"
     ]
    }
   ],
   "source": [
    "!pip install torchsummary\n",
    "from torchsummary import summary\n",
    "\n",
    "summary(model, (3, 32, 32))"
   ]
  },
  {
   "cell_type": "markdown",
   "id": "e5050da1-c268-4ae2-80ee-e83587fedb3c",
   "metadata": {},
   "source": [
    "## Preparing data and parameters for detection\n",
    "* Labeling data\n",
    "* Splitting data into train and test subsets\n",
    "* Tuning bandwidth (sigma) for KDE and k for LID\n",
    "* Fetching training data from original dataset\n",
    "* Adding functionality for saving features"
   ]
  },
  {
   "cell_type": "code",
   "execution_count": 54,
   "id": "3c1cec93-53c7-466b-ad2d-2d3fdcf656a8",
   "metadata": {
    "execution": {
     "iopub.execute_input": "2023-05-24T10:25:49.092041Z",
     "iopub.status.busy": "2023-05-24T10:25:49.091759Z",
     "iopub.status.idle": "2023-05-24T10:25:49.096892Z",
     "shell.execute_reply": "2023-05-24T10:25:49.095793Z",
     "shell.execute_reply.started": "2023-05-24T10:25:49.092019Z"
    }
   },
   "outputs": [],
   "source": [
    "from sklearn.model_selection import GridSearchCV\n",
    "from sklearn.neighbors import KernelDensity\n",
    "from sklearn.cluster import KMeans"
   ]
  },
  {
   "cell_type": "code",
   "execution_count": 55,
   "id": "da150099-cab5-4661-a4b7-fbb469d8ce35",
   "metadata": {
    "execution": {
     "iopub.execute_input": "2023-05-24T10:25:49.999525Z",
     "iopub.status.busy": "2023-05-24T10:25:49.999242Z",
     "iopub.status.idle": "2023-05-24T10:25:50.005255Z",
     "shell.execute_reply": "2023-05-24T10:25:50.004163Z",
     "shell.execute_reply.started": "2023-05-24T10:25:49.999503Z"
    }
   },
   "outputs": [],
   "source": [
    "#labeling data\n",
    "def label_data(model, data):\n",
    "    labels = torch.zeros(len(data))\n",
    "    model.eval()\n",
    "    for i in range(100):\n",
    "        data_batch = data[i * 100:(i + 1) * 100].to(device)\n",
    "        with torch.no_grad():\n",
    "            outputs = model(data_batch).cpu()\n",
    "        labels[i * 100:(i + 1) * 100] = torch.argmax(outputs, 1)\n",
    "    \n",
    "    return labels"
   ]
  },
  {
   "cell_type": "code",
   "execution_count": 56,
   "id": "6794b97c-18f7-4d58-bfd4-fa925686f904",
   "metadata": {
    "execution": {
     "iopub.execute_input": "2023-05-24T10:25:51.088606Z",
     "iopub.status.busy": "2023-05-24T10:25:51.088317Z",
     "iopub.status.idle": "2023-05-24T10:25:52.798803Z",
     "shell.execute_reply": "2023-05-24T10:25:52.797635Z",
     "shell.execute_reply.started": "2023-05-24T10:25:51.088583Z"
    }
   },
   "outputs": [],
   "source": [
    "y_clean = label_data(model, X_clean)\n",
    "y_fgsm = label_data(model, X_fgsm)\n",
    "y_bim = label_data(model, X_bim)\n",
    "y_deepfool = label_data(model, X_deepfool)\n",
    "y_cw = label_data(model, X_cw)"
   ]
  },
  {
   "cell_type": "code",
   "execution_count": 57,
   "id": "d4511fb1-2195-496d-b8c7-f286ea60cc55",
   "metadata": {
    "execution": {
     "iopub.execute_input": "2023-05-24T10:25:53.427182Z",
     "iopub.status.busy": "2023-05-24T10:25:53.426328Z",
     "iopub.status.idle": "2023-05-24T10:25:53.430904Z",
     "shell.execute_reply": "2023-05-24T10:25:53.430180Z",
     "shell.execute_reply.started": "2023-05-24T10:25:53.427157Z"
    }
   },
   "outputs": [],
   "source": [
    "def split_train_test(X, y):\n",
    "    return X[:8000], X[8000:], y[:8000], y[8000:]"
   ]
  },
  {
   "cell_type": "code",
   "execution_count": 58,
   "id": "81ddf41b-64c6-4e3f-807d-eb89893ee3ab",
   "metadata": {
    "execution": {
     "iopub.execute_input": "2023-05-24T10:25:55.006835Z",
     "iopub.status.busy": "2023-05-24T10:25:55.005607Z",
     "iopub.status.idle": "2023-05-24T10:25:55.018132Z",
     "shell.execute_reply": "2023-05-24T10:25:55.016435Z",
     "shell.execute_reply.started": "2023-05-24T10:25:55.006752Z"
    }
   },
   "outputs": [],
   "source": [
    "# splitting data\n",
    "X_clean_train, X_clean_test, y_clean_train, y_clean_test = split_train_test(X_clean, y_clean)\n",
    "X_fgsm_train, X_fgsm_test, y_fgsm_train, y_fgsm_test = split_train_test(X_fgsm, y_fgsm)\n",
    "X_bim_train, X_bim_test, y_bim_train, y_bim_test = split_train_test(X_bim, y_bim)\n",
    "X_deepfool_train, X_deepfool_test, y_deepfool_train, y_deepfool_test = split_train_test(X_deepfool, y_deepfool)\n",
    "X_cw_train, X_cw_test, y_cw_train, y_cw_test = split_train_test(X_cw, y_cw)"
   ]
  },
  {
   "cell_type": "code",
   "execution_count": null,
   "id": "41b2e29f-8762-46ee-8c5b-869cffb1cd56",
   "metadata": {
    "execution": {
     "iopub.execute_input": "2023-05-24T00:35:54.072573Z",
     "iopub.status.busy": "2023-05-24T00:35:54.072313Z"
    }
   },
   "outputs": [],
   "source": [
    "params = {'bandwidth': np.logspace(-1, 1, 50)}\n",
    "grid = GridSearchCV(KernelDensity(), params, n_jobs=-1)\n",
    "grid.fit(X_clean_train.reshape((8000,-1)).detach().numpy())\n",
    "\n",
    "sigma = grid.best_estimator_.bandwidth"
   ]
  },
  {
   "cell_type": "code",
   "execution_count": 47,
   "id": "744207c5-5609-43d6-bd76-1c04a826d806",
   "metadata": {
    "execution": {
     "iopub.execute_input": "2023-05-22T19:27:33.186350Z",
     "iopub.status.busy": "2023-05-22T19:27:33.186151Z",
     "iopub.status.idle": "2023-05-22T19:59:14.553631Z",
     "shell.execute_reply": "2023-05-22T19:59:14.552891Z",
     "shell.execute_reply.started": "2023-05-22T19:27:33.186330Z"
    }
   },
   "outputs": [],
   "source": [
    "params = {'n_clusters': np.arange(10, 100)}\n",
    "grid = GridSearchCV(KMeans(), params, n_jobs=-1)\n",
    "grid.fit(X_clean_train.reshape((8000, -1)).detach().numpy())\n",
    "\n",
    "k = grid.best_estimator_.n_clusters"
   ]
  },
  {
   "cell_type": "code",
   "execution_count": 45,
   "id": "7cf53598-5626-4ad7-bd77-06e0f0c58cac",
   "metadata": {
    "execution": {
     "iopub.execute_input": "2023-05-24T10:25:00.728583Z",
     "iopub.status.busy": "2023-05-24T10:25:00.726851Z",
     "iopub.status.idle": "2023-05-24T10:25:00.739649Z",
     "shell.execute_reply": "2023-05-24T10:25:00.737350Z",
     "shell.execute_reply.started": "2023-05-24T10:25:00.728509Z"
    }
   },
   "outputs": [],
   "source": [
    "def save_features(features, split_name, set_name, feature_name):\n",
    "    dirname = './' + feature_name + '/'\n",
    "    filename = feature_name + '_' + set_name + '_' + split_name\n",
    "    path = dirname + filename\n",
    "    torch.save(features, path)"
   ]
  },
  {
   "cell_type": "code",
   "execution_count": 17,
   "id": "ce3a1c29-3148-49ba-9971-d4100578d36d",
   "metadata": {
    "execution": {
     "iopub.execute_input": "2023-05-24T09:31:39.870326Z",
     "iopub.status.busy": "2023-05-24T09:31:39.869369Z",
     "iopub.status.idle": "2023-05-24T09:35:31.737170Z",
     "shell.execute_reply": "2023-05-24T09:35:31.736578Z",
     "shell.execute_reply.started": "2023-05-24T09:31:39.870225Z"
    }
   },
   "outputs": [],
   "source": [
    "X_train = torch.empty((0, 3, 32, 32))\n",
    "y_train = torch.empty(0)\n",
    "\n",
    "for X, y in train_loader:\n",
    "    X_train = torch.cat((X_train, X))\n",
    "    y_train = torch.cat((y_train, y))"
   ]
  },
  {
   "cell_type": "code",
   "execution_count": 59,
   "id": "cc3be0cb-6fcc-4326-baac-05165d5655f7",
   "metadata": {
    "execution": {
     "iopub.execute_input": "2023-05-24T10:25:59.640305Z",
     "iopub.status.busy": "2023-05-24T10:25:59.639121Z",
     "iopub.status.idle": "2023-05-24T10:25:59.645795Z",
     "shell.execute_reply": "2023-05-24T10:25:59.644745Z",
     "shell.execute_reply.started": "2023-05-24T10:25:59.640237Z"
    }
   },
   "outputs": [],
   "source": [
    "# listing rounded values of tuned parameters\n",
    "sigma = 0.55\n",
    "k = 91"
   ]
  },
  {
   "cell_type": "markdown",
   "id": "ca1462f0-2b4f-4e13-b8b8-7e629d8d6d7a",
   "metadata": {},
   "source": [
    "## Detector interface"
   ]
  },
  {
   "cell_type": "code",
   "execution_count": 46,
   "id": "0027c249-830f-4abf-a297-4e6cc1d85c4b",
   "metadata": {
    "execution": {
     "iopub.execute_input": "2023-05-24T10:25:06.192945Z",
     "iopub.status.busy": "2023-05-24T10:25:06.191154Z",
     "iopub.status.idle": "2023-05-24T10:25:06.201612Z",
     "shell.execute_reply": "2023-05-24T10:25:06.199843Z",
     "shell.execute_reply.started": "2023-05-24T10:25:06.192882Z"
    }
   },
   "outputs": [],
   "source": [
    "from sklearn.linear_model import LogisticRegressionCV\n",
    "from sklearn.preprocessing import scale\n",
    "from sklearn.metrics import roc_curve, roc_auc_score"
   ]
  },
  {
   "cell_type": "code",
   "execution_count": 47,
   "id": "7eca5117-fe03-45a5-af0f-e4f8050e7d07",
   "metadata": {
    "execution": {
     "iopub.execute_input": "2023-05-24T10:25:06.894896Z",
     "iopub.status.busy": "2023-05-24T10:25:06.894593Z",
     "iopub.status.idle": "2023-05-24T10:25:06.900090Z",
     "shell.execute_reply": "2023-05-24T10:25:06.899342Z",
     "shell.execute_reply.started": "2023-05-24T10:25:06.894873Z"
    }
   },
   "outputs": [],
   "source": [
    "def form_detection_data(features_neg, features_pos):\n",
    "    values_neg = features_neg.reshape(1, -1).transpose(1, 0)\n",
    "    values_pos = features_pos.reshape(1, -1).transpose(1, 0)\n",
    "    \n",
    "    values = torch.cat((values_neg, values_pos))\n",
    "    labels = torch.cat((torch.zeros_like(features_neg), torch.ones_like(features_pos)))\n",
    "    \n",
    "    return values, labels"
   ]
  },
  {
   "cell_type": "code",
   "execution_count": 48,
   "id": "706a8688-e3d9-4b3e-9c34-7eacd39c6d41",
   "metadata": {
    "execution": {
     "iopub.execute_input": "2023-05-24T10:25:08.731171Z",
     "iopub.status.busy": "2023-05-24T10:25:08.730873Z",
     "iopub.status.idle": "2023-05-24T10:25:08.735547Z",
     "shell.execute_reply": "2023-05-24T10:25:08.734812Z",
     "shell.execute_reply.started": "2023-05-24T10:25:08.731150Z"
    }
   },
   "outputs": [],
   "source": [
    "def train_detector(values, labels):\n",
    "    \n",
    "    lr = LogisticRegressionCV(n_jobs=-1).fit(values,labels)\n",
    "    \n",
    "    return lr"
   ]
  },
  {
   "cell_type": "code",
   "execution_count": 49,
   "id": "05df604e-0601-4480-a5a2-2bc366fd673a",
   "metadata": {
    "execution": {
     "iopub.execute_input": "2023-05-24T10:25:09.855903Z",
     "iopub.status.busy": "2023-05-24T10:25:09.855600Z",
     "iopub.status.idle": "2023-05-24T10:25:09.861321Z",
     "shell.execute_reply": "2023-05-24T10:25:09.860660Z",
     "shell.execute_reply.started": "2023-05-24T10:25:09.855879Z"
    }
   },
   "outputs": [],
   "source": [
    "def compute_roc(y_true, y_pred, plot=False):\n",
    "    \"\"\"\n",
    "    TODO\n",
    "    :param y_true: ground truth\n",
    "    :param y_pred: predictions\n",
    "    :param plot:\n",
    "    :return:\n",
    "    \"\"\"\n",
    "    fpr, tpr, _ = roc_curve(y_true, y_pred)\n",
    "    auc_score = roc_auc_score(y_true, y_pred)\n",
    "    if plot:\n",
    "        plt.figure(figsize=(7, 6))\n",
    "        plt.plot(fpr, tpr, color='blue',\n",
    "                 label='ROC (AUC = %0.4f)' % auc_score)\n",
    "        plt.legend(loc='lower right')\n",
    "        plt.title(\"ROC Curve\")\n",
    "        plt.xlabel(\"FPR\")\n",
    "        plt.ylabel(\"TPR\")\n",
    "        plt.show()\n",
    "\n",
    "    return fpr, tpr, auc_score"
   ]
  },
  {
   "cell_type": "markdown",
   "id": "0fa7a9e6-5fcb-4f6d-aaeb-abe61598d884",
   "metadata": {},
   "source": [
    "## Kernel Density Estimation"
   ]
  },
  {
   "cell_type": "code",
   "execution_count": 63,
   "id": "72fe8219-8bd8-4e7e-a34d-0c86720112ad",
   "metadata": {
    "execution": {
     "iopub.execute_input": "2023-05-24T10:26:49.954579Z",
     "iopub.status.busy": "2023-05-24T10:26:49.953073Z",
     "iopub.status.idle": "2023-05-24T10:26:49.974493Z",
     "shell.execute_reply": "2023-05-24T10:26:49.973037Z",
     "shell.execute_reply.started": "2023-05-24T10:26:49.954510Z"
    }
   },
   "outputs": [],
   "source": [
    "k = torch.zeros((1, 3, 32, 32)).to(device)\n",
    "out_deep = model.get_hidden_output(k, -1)\n",
    "last_hidden_dim = out_deep.squeeze(0).shape"
   ]
  },
  {
   "cell_type": "code",
   "execution_count": 73,
   "id": "129e41bb-6c8d-4aa1-bcc3-df09cada8734",
   "metadata": {
    "execution": {
     "iopub.execute_input": "2023-05-24T10:29:59.447976Z",
     "iopub.status.busy": "2023-05-24T10:29:59.447677Z",
     "iopub.status.idle": "2023-05-24T10:29:59.452418Z",
     "shell.execute_reply": "2023-05-24T10:29:59.451860Z",
     "shell.execute_reply.started": "2023-05-24T10:29:59.447954Z"
    }
   },
   "outputs": [
    {
     "data": {
      "text/plain": [
       "torch.Size([512, 1, 1])"
      ]
     },
     "execution_count": 73,
     "metadata": {},
     "output_type": "execute_result"
    }
   ],
   "source": [
    "last_hidden_dim"
   ]
  },
  {
   "cell_type": "code",
   "execution_count": 86,
   "id": "47afa33f-98ec-4697-9a83-2215cea362cc",
   "metadata": {
    "execution": {
     "iopub.execute_input": "2023-05-24T10:32:52.947274Z",
     "iopub.status.busy": "2023-05-24T10:32:52.946980Z",
     "iopub.status.idle": "2023-05-24T10:32:52.954272Z",
     "shell.execute_reply": "2023-05-24T10:32:52.953089Z",
     "shell.execute_reply.started": "2023-05-24T10:32:52.947252Z"
    }
   },
   "outputs": [],
   "source": [
    "def get_deep_representations(model, X, device, batch_size=256):\n",
    "    model.eval()\n",
    "\n",
    "    n_batches = int(np.ceil(X.shape[0] / float(batch_size)))\n",
    "    output = torch.zeros((len(X), 512, 1, 1))\n",
    "    for i in tqdm(range(n_batches)):\n",
    "        X_batch = X[i * batch_size:(i + 1) * batch_size].to(device)\n",
    "        with torch.no_grad():\n",
    "            output[i * batch_size:(i + 1) * batch_size] = model.get_hidden_output(X_batch, -1).cpu()\n",
    "    return output"
   ]
  },
  {
   "cell_type": "code",
   "execution_count": 87,
   "id": "25152612-4b00-4fc8-91df-8aff50568f91",
   "metadata": {
    "execution": {
     "iopub.execute_input": "2023-05-24T10:32:53.657021Z",
     "iopub.status.busy": "2023-05-24T10:32:53.656725Z",
     "iopub.status.idle": "2023-05-24T10:32:57.248677Z",
     "shell.execute_reply": "2023-05-24T10:32:57.247913Z",
     "shell.execute_reply.started": "2023-05-24T10:32:53.656999Z"
    }
   },
   "outputs": [
    {
     "name": "stderr",
     "output_type": "stream",
     "text": [
      "100%|██████████| 352/352 [00:03<00:00, 102.84it/s]\n"
     ]
    }
   ],
   "source": [
    "X_train_df = get_deep_representations(model, X_train, device)"
   ]
  },
  {
   "cell_type": "code",
   "execution_count": 88,
   "id": "a624f79a-91a5-42f2-8499-4380273ceb64",
   "metadata": {
    "execution": {
     "iopub.execute_input": "2023-05-24T10:32:57.250102Z",
     "iopub.status.busy": "2023-05-24T10:32:57.249877Z",
     "iopub.status.idle": "2023-05-24T10:32:57.253582Z",
     "shell.execute_reply": "2023-05-24T10:32:57.252931Z",
     "shell.execute_reply.started": "2023-05-24T10:32:57.250080Z"
    }
   },
   "outputs": [],
   "source": [
    "X_train_df = X_train_df.reshape((len(X_train_df), -1))"
   ]
  },
  {
   "cell_type": "code",
   "execution_count": 89,
   "id": "2ce6aa5c-0ed4-44c3-a496-7e3779ecad1e",
   "metadata": {
    "execution": {
     "iopub.execute_input": "2023-05-24T10:32:57.254641Z",
     "iopub.status.busy": "2023-05-24T10:32:57.254436Z",
     "iopub.status.idle": "2023-05-24T10:33:01.533001Z",
     "shell.execute_reply": "2023-05-24T10:33:01.531741Z",
     "shell.execute_reply.started": "2023-05-24T10:32:57.254621Z"
    }
   },
   "outputs": [],
   "source": [
    "class_indices = {}\n",
    "kdes = {}\n",
    "\n",
    "for i in range(10):\n",
    "    class_indices[i] = np.where(y_train == i)\n",
    "\n",
    "for i in range(10):\n",
    "    kdes[i] = KernelDensity(kernel='gaussian', bandwidth=sigma).fit(X_train_df[class_indices[i]].cpu().detach().numpy())"
   ]
  },
  {
   "cell_type": "code",
   "execution_count": 90,
   "id": "420fa614-9757-433d-af24-924d069bb1c3",
   "metadata": {
    "execution": {
     "iopub.execute_input": "2023-05-24T10:33:01.534671Z",
     "iopub.status.busy": "2023-05-24T10:33:01.534464Z",
     "iopub.status.idle": "2023-05-24T10:33:01.539428Z",
     "shell.execute_reply": "2023-05-24T10:33:01.538838Z",
     "shell.execute_reply.started": "2023-05-24T10:33:01.534651Z"
    }
   },
   "outputs": [],
   "source": [
    "def score_densities(features, labels, kdes):\n",
    "    densities = torch.empty(0)\n",
    "    for i in range(labels.shape[0]):\n",
    "        class_label = labels[i].item()\n",
    "        densities = torch.cat((densities, torch.from_numpy(kdes[class_label].score_samples(features[i].reshape((1, -1)).cpu().detach().numpy()))))\n",
    "    return densities"
   ]
  },
  {
   "cell_type": "code",
   "execution_count": 91,
   "id": "76efcabf-9209-4034-abaf-9eb101f88966",
   "metadata": {
    "execution": {
     "iopub.execute_input": "2023-05-24T10:33:01.540591Z",
     "iopub.status.busy": "2023-05-24T10:33:01.540378Z",
     "iopub.status.idle": "2023-05-24T10:33:03.355650Z",
     "shell.execute_reply": "2023-05-24T10:33:03.354936Z",
     "shell.execute_reply.started": "2023-05-24T10:33:01.540571Z"
    }
   },
   "outputs": [
    {
     "name": "stderr",
     "output_type": "stream",
     "text": [
      "100%|██████████| 32/32 [00:00<00:00, 107.64it/s]\n",
      "100%|██████████| 8/8 [00:00<00:00, 124.11it/s]\n",
      "100%|██████████| 32/32 [00:00<00:00, 122.23it/s]\n",
      "100%|██████████| 8/8 [00:00<00:00, 124.53it/s]\n",
      "100%|██████████| 32/32 [00:00<00:00, 123.02it/s]\n",
      "100%|██████████| 8/8 [00:00<00:00, 109.94it/s]\n",
      "100%|██████████| 32/32 [00:00<00:00, 121.72it/s]\n",
      "100%|██████████| 8/8 [00:00<00:00, 124.65it/s]\n",
      "100%|██████████| 32/32 [00:00<00:00, 120.19it/s]\n",
      "100%|██████████| 8/8 [00:00<00:00, 103.28it/s]\n"
     ]
    }
   ],
   "source": [
    "X_clean_train_df = get_deep_representations(model, X_clean_train, device).reshape((len(X_clean_train), -1))\n",
    "X_clean_test_df = get_deep_representations(model, X_clean_test, device).reshape((len(X_clean_test), -1))\n",
    "X_fgsm_train_df = get_deep_representations(model, X_fgsm_train, device).reshape((len(X_clean_train), -1))\n",
    "X_fgsm_test_df = get_deep_representations(model, X_fgsm_test, device).reshape((len(X_clean_test), -1))\n",
    "X_bim_train_df = get_deep_representations(model, X_bim_train, device).reshape((len(X_clean_train), -1))\n",
    "X_bim_test_df = get_deep_representations(model, X_bim_test, device).reshape((len(X_clean_test), -1))\n",
    "X_deepfool_train_df = get_deep_representations(model, X_deepfool_train, device).reshape((len(X_clean_train), -1))\n",
    "X_deepfool_test_df = get_deep_representations(model, X_deepfool_test, device).reshape((len(X_clean_test), -1))\n",
    "X_cw_train_df = get_deep_representations(model, X_cw_train, device).reshape((len(X_clean_train), -1))\n",
    "X_cw_test_df = get_deep_representations(model, X_cw_test, device).reshape((len(X_clean_test), -1))"
   ]
  },
  {
   "cell_type": "code",
   "execution_count": null,
   "id": "b4d14871-aa46-4c28-91e0-5f9fd13a5c2d",
   "metadata": {
    "execution": {
     "iopub.execute_input": "2023-05-24T10:33:04.711055Z",
     "iopub.status.busy": "2023-05-24T10:33:04.709122Z"
    }
   },
   "outputs": [],
   "source": [
    "densities_clean_train = score_densities(X_clean_train_df, y_clean_train, kdes)\n",
    "densities_clean_test = score_densities(X_clean_test_df, y_clean_test, kdes)\n",
    "densities_fgsm_train = score_densities(X_fgsm_train_df, y_fgsm_train, kdes)\n",
    "densities_fgsm_test = score_densities(X_fgsm_test_df, y_fgsm_test, kdes)\n",
    "densities_bim_train = score_densities(X_bim_train_df, y_bim_train, kdes)\n",
    "densities_bim_test = score_densities(X_bim_test_df, y_bim_test, kdes)\n",
    "densities_deepfool_train = score_densities(X_deepfool_train_df, y_deepfool_train, kdes)\n",
    "densities_deepfool_test = score_densities(X_deepfool_test_df, y_deepfool_test, kdes)\n",
    "densities_cw_train = score_densities(X_cw_train_df, y_cw_train, kdes)\n",
    "densities_cw_test = score_densities(X_cw_test_df, y_cw_test, kdes)"
   ]
  },
  {
   "cell_type": "code",
   "execution_count": null,
   "id": "c07c91ed-a35c-4547-8530-5bdd538619a3",
   "metadata": {},
   "outputs": [],
   "source": [
    "values_train_fgsm, labels_train_fgsm = form_detection_data(densities_clean_train, densities_fgsm_train)\n",
    "values_test_fgsm, labels_test_fgsm = form_detection_data(densities_clean_test, densities_fgsm_test)\n",
    "detector_fgsm_kde = train_detector(values_train_fgsm, labels_train_fgsm)\n",
    "probs = torch.tensor(detector_fgsm_kde.predict_proba(values_test_fgsm)[:, 1])\n",
    "_, _, auc_score = compute_roc(labels_test_fgsm, probs, plot=True)"
   ]
  },
  {
   "cell_type": "code",
   "execution_count": null,
   "id": "73621c15-2921-451b-aed1-61384bcd6964",
   "metadata": {},
   "outputs": [],
   "source": [
    "values_train_bim, labels_train_bim = form_detection_data(densities_clean_train, densities_bim_train)\n",
    "values_test_bim, labels_test_bim = form_detection_data(densities_clean_test, densities_bim_test)\n",
    "detector_bim_kde = train_detector(values_train_bim, labels_train_bim)\n",
    "probs = torch.tensor(detector_bim_kde.predict_proba(values_test_bim)[:, 1])\n",
    "_, _, auc_score = compute_roc(labels_test_bim, probs, plot=True)"
   ]
  },
  {
   "cell_type": "code",
   "execution_count": null,
   "id": "f41871c3-75a1-4cf9-9c0f-1a9126cd88e7",
   "metadata": {},
   "outputs": [],
   "source": [
    "values_train_deepfool, labels_train_deepfool = form_detection_data(densities_clean_train, densities_deepfool_train)\n",
    "values_test_deepfool, labels_test_deepfool = form_detection_data(densities_clean_test, densities_deepfool_test)\n",
    "detector_deepfool_kde = train_detector(values_train_deepfool, labels_train_deepfool)\n",
    "probs = torch.tensor(detector_deepfool_kde.predict_proba(values_test_deepfool)[:, 1])\n",
    "_, _, auc_score = compute_roc(labels_test_deepfool, probs, plot=True)"
   ]
  },
  {
   "cell_type": "code",
   "execution_count": null,
   "id": "046ffd99-a779-4320-b676-8e90b04929fb",
   "metadata": {},
   "outputs": [],
   "source": [
    "values_train_cw, labels_train_cw = form_detection_data(densities_clean_train, densities_cw_train)\n",
    "values_test_cw, labels_test_cw = form_detection_data(densities_clean_test, densities_cw_test)\n",
    "detector_cw_kde = train_detector(values_train_cw, labels_train_cw)\n",
    "probs = torch.tensor(detector_cw_kde.predict_proba(values_test_cw)[:, 1])\n",
    "_, _, auc_score = compute_roc(labels_test_cw, probs, plot=True)"
   ]
  },
  {
   "cell_type": "markdown",
   "id": "de29f946-4edb-4cf3-9664-c242958d6cab",
   "metadata": {},
   "source": [
    "## Bayesian uncertainty"
   ]
  },
  {
   "cell_type": "code",
   "execution_count": 103,
   "id": "876cf29d-47b5-4263-8257-42b14dfefea1",
   "metadata": {
    "execution": {
     "iopub.execute_input": "2023-05-24T01:26:15.426668Z",
     "iopub.status.busy": "2023-05-24T01:26:15.426068Z",
     "iopub.status.idle": "2023-05-24T01:26:15.431732Z",
     "shell.execute_reply": "2023-05-24T01:26:15.431152Z",
     "shell.execute_reply.started": "2023-05-24T01:26:15.426643Z"
    }
   },
   "outputs": [],
   "source": [
    "def get_mc_predictions(model, images, batch_size=256, num_iter=50):\n",
    "    output_dim = 10\n",
    "\n",
    "    model.train()\n",
    "\n",
    "    def predict():\n",
    "        num_batches = int(np.ceil(images.shape[0] / float(batch_size)))\n",
    "        output = torch.zeros(size=(images.shape[0], output_dim))\n",
    "        with torch.no_grad():\n",
    "            for i in range(num_batches):\n",
    "                images_batch = images[i * batch_size:(i + 1) * batch_size].to(device)\n",
    "                output[i * batch_size:(i + 1) * batch_size] = F.softmax(model(images_batch), dim=1)\n",
    "\n",
    "        return output\n",
    "\n",
    "    predictions_mc = torch.empty(0, images.shape[0], output_dim)\n",
    "\n",
    "    for i in range(num_iter):\n",
    "        predictions_mc = torch.cat((predictions_mc, predict().unsqueeze(0)))\n",
    "\n",
    "    return predictions_mc"
   ]
  },
  {
   "cell_type": "code",
   "execution_count": 170,
   "id": "859c4425-ddd5-49dc-af0c-318b558c42b4",
   "metadata": {
    "execution": {
     "iopub.execute_input": "2023-05-24T09:09:02.965249Z",
     "iopub.status.busy": "2023-05-24T09:09:02.964440Z",
     "iopub.status.idle": "2023-05-24T09:09:15.666664Z",
     "shell.execute_reply": "2023-05-24T09:09:15.665139Z",
     "shell.execute_reply.started": "2023-05-24T09:09:02.965222Z"
    }
   },
   "outputs": [
    {
     "name": "stdout",
     "output_type": "stream",
     "text": [
      "Traceback (most recent call last):\n",
      "  File \"/usr/local/lib/python3.9/dist-packages/joblib/externals/loky/process_executor.py\", line 391, in _process_worker\n",
      "    call_item = call_queue.get(block=True, timeout=timeout)\n",
      "  File \"/usr/lib/python3.9/multiprocessing/queues.py\", line 108, in get\n",
      "    if not self._rlock.acquire(block, timeout):\n",
      "KeyboardInterrupt\n",
      "\n"
     ]
    },
    {
     "name": "stderr",
     "output_type": "stream",
     "text": [
      "\n",
      "KeyboardInterrupt\n",
      "\n"
     ]
    }
   ],
   "source": [
    "uncerts_clean_train = get_mc_predictions(model, X_clean_train).var(dim=0).mean(dim=1)\n",
    "uncerts_clean_test = get_mc_predictions(model, X_clean_test).var(dim=0).mean(dim=1)\n",
    "uncerts_fgsm_train = get_mc_predictions(model, X_fgsm_train).var(dim=0).mean(dim=1)\n",
    "uncerts_fgsm_test = get_mc_predictions(model, X_fgsm_test).var(dim=0).mean(dim=1)\n",
    "uncerts_bim_train = get_mc_predictions(model, X_bim_train).var(dim=0).mean(dim=1)\n",
    "uncerts_bim_test = get_mc_predictions(model, X_bim_test).var(dim=0).mean(dim=1)\n",
    "uncerts_deepfool_train = get_mc_predictions(model, X_deepfool_train).var(dim=0).mean(dim=1)\n",
    "uncerts_deepfool_test = get_mc_predictions(model, X_deepfool_test).var(dim=0).mean(dim=1)\n",
    "uncerts_cw_train = get_mc_predictions(model, X_cw_train).var(dim=0).mean(dim=1)\n",
    "uncerts_cw_test = get_mc_predictions(model, X_cw_test).var(dim=0).mean(dim=1)"
   ]
  },
  {
   "cell_type": "code",
   "execution_count": 169,
   "id": "e188c289-51cc-49ab-8f53-459e88db1910",
   "metadata": {
    "execution": {
     "iopub.execute_input": "2023-05-24T09:08:53.218800Z",
     "iopub.status.busy": "2023-05-24T09:08:53.218271Z",
     "iopub.status.idle": "2023-05-24T09:08:53.360898Z",
     "shell.execute_reply": "2023-05-24T09:08:53.360418Z",
     "shell.execute_reply.started": "2023-05-24T09:08:53.218780Z"
    }
   },
   "outputs": [
    {
     "data": {
      "image/png": "[encoded data removed]",
      "text/plain": [
       "<Figure size 700x600 with 1 Axes>"
      ]
     },
     "metadata": {},
     "output_type": "display_data"
    }
   ],
   "source": [
    "values_train_fgsm, labels_train_fgsm = form_detection_data(uncerts_clean_train, uncerts_fgsm_train)\n",
    "values_test_fgsm, labels_test_fgsm = form_detection_data(uncerts_clean_test, uncerts_fgsm_test)\n",
    "detector_fgsm_bu = train_detector(values_train_fgsm.numpy(), labels_train_fgsm.numpy())\n",
    "probs = torch.tensor(detector_bim_bu.predict_proba(values_test_bim.numpy())[:, 1])\n",
    "_, _, auc_score = compute_roc(labels_test_fgsm.numpy(), probs.numpy(), plot=True)"
   ]
  },
  {
   "cell_type": "code",
   "execution_count": 168,
   "id": "17a15523-e903-4a7c-bcd5-53d88a30aeff",
   "metadata": {
    "execution": {
     "iopub.execute_input": "2023-05-24T09:08:38.570941Z",
     "iopub.status.busy": "2023-05-24T09:08:38.570370Z",
     "iopub.status.idle": "2023-05-24T09:08:38.938012Z",
     "shell.execute_reply": "2023-05-24T09:08:38.937357Z",
     "shell.execute_reply.started": "2023-05-24T09:08:38.570920Z"
    }
   },
   "outputs": [
    {
     "data": {
      "image/png": "[encoded data removed]",
      "text/plain": [
       "<Figure size 700x600 with 1 Axes>"
      ]
     },
     "metadata": {},
     "output_type": "display_data"
    }
   ],
   "source": [
    "values_train_bim, labels_train_bim = form_detection_data(uncerts_clean_train, uncerts_bim_train)\n",
    "values_test_bim, labels_test_bim = form_detection_data(uncerts_clean_test, uncerts_bim_test)\n",
    "detector_bim_bu = train_detector(values_train_bim, labels_train_bim)\n",
    "probs = torch.tensor(detector_bim_bu.predict_proba(values_test_bim)[:, 1])\n",
    "_, _, auc_score = compute_roc(labels_test_bim, probs, plot=True)"
   ]
  },
  {
   "cell_type": "code",
   "execution_count": 107,
   "id": "d92a7815-f7cf-467f-83be-d08dfced7cc8",
   "metadata": {
    "execution": {
     "iopub.execute_input": "2023-05-24T01:27:39.745763Z",
     "iopub.status.busy": "2023-05-24T01:27:39.745243Z",
     "iopub.status.idle": "2023-05-24T01:27:39.887527Z",
     "shell.execute_reply": "2023-05-24T01:27:39.887076Z",
     "shell.execute_reply.started": "2023-05-24T01:27:39.745744Z"
    }
   },
   "outputs": [
    {
     "data": {
      "image/png": "[encoded data removed]",
      "text/plain": [
       "<Figure size 700x600 with 1 Axes>"
      ]
     },
     "metadata": {},
     "output_type": "display_data"
    }
   ],
   "source": [
    "values_train_deepfool, labels_train_deepfool = form_detection_data(uncerts_clean_train, uncerts_deepfool_train)\n",
    "values_test_deepfool, labels_test_deepfool = form_detection_data(uncerts_clean_test, uncerts_deepfool_test)\n",
    "detector_deepfool_bu = train_detector(values_train_deepfool, labels_train_deepfool)\n",
    "probs = torch.tensor(detector_deepfool_bu.predict_proba(values_test_deepfool)[:, 1])\n",
    "_, _, auc_score = compute_roc(labels_test_deepfool, probs, plot=True)"
   ]
  },
  {
   "cell_type": "code",
   "execution_count": 108,
   "id": "628ea4d3-7990-4217-837e-1e2b2b838674",
   "metadata": {
    "execution": {
     "iopub.execute_input": "2023-05-24T01:27:39.888716Z",
     "iopub.status.busy": "2023-05-24T01:27:39.888221Z",
     "iopub.status.idle": "2023-05-24T01:27:40.041938Z",
     "shell.execute_reply": "2023-05-24T01:27:40.041455Z",
     "shell.execute_reply.started": "2023-05-24T01:27:39.888698Z"
    }
   },
   "outputs": [
    {
     "data": {
      "image/png": "[encoded data removed]",
      "text/plain": [
       "<Figure size 700x600 with 1 Axes>"
      ]
     },
     "metadata": {},
     "output_type": "display_data"
    }
   ],
   "source": [
    "values_train_cw, labels_train_cw = form_detection_data(uncerts_clean_train, uncerts_cw_train)\n",
    "values_test_cw, labels_test_cw = form_detection_data(uncerts_clean_test, uncerts_cw_test)\n",
    "detector_cw_bu = train_detector(values_train_cw, labels_train_cw)\n",
    "probs = torch.tensor(detector_cw_bu.predict_proba(values_test_cw)[:, 1])\n",
    "_, _, auc_score = compute_roc(labels_test_cw, probs, plot=True)"
   ]
  },
  {
   "cell_type": "code",
   "execution_count": null,
   "id": "25fa401a-ef42-4f7d-b937-2ecaeaad5658",
   "metadata": {},
   "outputs": [],
   "source": [
    "np.save()"
   ]
  },
  {
   "cell_type": "markdown",
   "id": "1a2591bd-a9a8-43ac-ab96-b152400dfde7",
   "metadata": {},
   "source": [
    "## Local intrinsic dimensionality"
   ]
  },
  {
   "cell_type": "code",
   "execution_count": 64,
   "id": "05895e1f-4f71-4d82-9091-a4178f66830a",
   "metadata": {
    "execution": {
     "iopub.execute_input": "2023-05-24T01:10:47.147327Z",
     "iopub.status.busy": "2023-05-24T01:10:47.146779Z",
     "iopub.status.idle": "2023-05-24T01:10:47.150397Z",
     "shell.execute_reply": "2023-05-24T01:10:47.149811Z",
     "shell.execute_reply.started": "2023-05-24T01:10:47.147305Z"
    }
   },
   "outputs": [],
   "source": [
    "from scipy.spatial.distance import cdist"
   ]
  },
  {
   "cell_type": "code",
   "execution_count": 65,
   "id": "4ab3df3f-5019-4590-8d54-f7f3fd63d976",
   "metadata": {
    "execution": {
     "iopub.execute_input": "2023-05-24T01:10:47.907269Z",
     "iopub.status.busy": "2023-05-24T01:10:47.906526Z",
     "iopub.status.idle": "2023-05-24T01:10:47.910431Z",
     "shell.execute_reply": "2023-05-24T01:10:47.909826Z",
     "shell.execute_reply.started": "2023-05-24T01:10:47.907248Z"
    }
   },
   "outputs": [],
   "source": [
    "def get_softmax_batch(model, X):\n",
    "    with torch.no_grad():\n",
    "        output = F.softmax(model(X.to(device)), 1)\n",
    "    return output"
   ]
  },
  {
   "cell_type": "code",
   "execution_count": 66,
   "id": "254ba521-dfb7-4dae-aa01-a9bf4fcc89e7",
   "metadata": {
    "execution": {
     "iopub.execute_input": "2023-05-24T01:10:49.387152Z",
     "iopub.status.busy": "2023-05-24T01:10:49.386370Z",
     "iopub.status.idle": "2023-05-24T01:10:49.391369Z",
     "shell.execute_reply": "2023-05-24T01:10:49.390770Z",
     "shell.execute_reply.started": "2023-05-24T01:10:49.387129Z"
    }
   },
   "outputs": [],
   "source": [
    "def mle_batch(data, batch, k):\n",
    "    data = torch.asarray(data, dtype=torch.float32).cpu()\n",
    "    batch = torch.asarray(batch, dtype=torch.float32).cpu()\n",
    "\n",
    "    k = min(k, len(data)-1)\n",
    "    f = lambda v: - k / np.sum(np.log(v/v[-1]))\n",
    "    \n",
    "    a = cdist(batch, data)\n",
    "    a = np.apply_along_axis(np.sort, axis=1, arr=a)[:,1:k+1]\n",
    "    a = np.apply_along_axis(f, axis=1, arr=a)\n",
    "    return torch.from_numpy(a)"
   ]
  },
  {
   "cell_type": "code",
   "execution_count": 67,
   "id": "8e370b47-5e05-437d-809e-f6399410633f",
   "metadata": {
    "execution": {
     "iopub.execute_input": "2023-05-24T01:10:51.574735Z",
     "iopub.status.busy": "2023-05-24T01:10:51.574002Z",
     "iopub.status.idle": "2023-05-24T01:10:51.578065Z",
     "shell.execute_reply": "2023-05-24T01:10:51.577492Z",
     "shell.execute_reply.started": "2023-05-24T01:10:51.574711Z"
    }
   },
   "outputs": [],
   "source": [
    "def get_lids_batch(model, X_clean, X_dest, k):\n",
    "    lids_batch = torch.zeros(len(X_clean))\n",
    "    \n",
    "    X_softmax = get_softmax_batch(model, X_clean)\n",
    "    \n",
    "    X_softmax_dest = get_softmax_batch(model, X_dest)\n",
    "    \n",
    "    lids_batch = mle_batch(X_softmax, X_softmax_dest, k=k)\n",
    "    \n",
    "    return lids_batch"
   ]
  },
  {
   "cell_type": "code",
   "execution_count": 74,
   "id": "244e2a17-5344-42ea-a97b-583dbf67f427",
   "metadata": {
    "execution": {
     "iopub.execute_input": "2023-05-24T01:13:19.947255Z",
     "iopub.status.busy": "2023-05-24T01:13:19.946746Z",
     "iopub.status.idle": "2023-05-24T01:13:19.952972Z",
     "shell.execute_reply": "2023-05-24T01:13:19.952511Z",
     "shell.execute_reply.started": "2023-05-24T01:13:19.947234Z"
    }
   },
   "outputs": [],
   "source": [
    "def get_lids(model, X_clean, X_fgsm, X_bim, X_deepfool, X_cw, k, batch_size=100):\n",
    "    lids_clean = torch.zeros(len(X_clean))\n",
    "    lids_fgsm = torch.zeros(len(X_clean))\n",
    "    lids_bim = torch.zeros(len(X_clean))\n",
    "    lids_deepfool = torch.zeros(len(X_clean))\n",
    "    lids_cw = torch.zeros(len(X_clean))\n",
    "    \n",
    "    n_batches = int(np.ceil(X_clean.shape[0] / float(batch_size)))\n",
    "    for i in tqdm(range(n_batches)):\n",
    "        start = i * batch_size\n",
    "        end = np.minimum(len(X_clean), (i + 1) * batch_size)\n",
    "        lids_batch_clean = get_lids_batch(model, X_clean[start:end], X_clean[start:end], k)\n",
    "        lids_clean[start:end] = lids_batch_clean\n",
    "        \n",
    "        lids_batch_fgsm = get_lids_batch(model, X_clean[start:end], X_fgsm[start:end], k)\n",
    "        lids_fgsm[start:end] = lids_batch_fgsm\n",
    "        \n",
    "        lids_batch_bim = get_lids_batch(model, X_clean[start:end], X_bim[start:end], k)\n",
    "        lids_bim[start:end] = lids_batch_bim\n",
    "        \n",
    "        lids_batch_deepfool = get_lids_batch(model, X_clean[start:end], X_deepfool[start:end], k)\n",
    "        lids_deepfool[start:end] = lids_batch_deepfool\n",
    "        \n",
    "        lids_batch_cw = get_lids_batch(model, X_clean[start:end], X_cw[start:end], k)\n",
    "        lids_cw[start:end] = lids_batch_cw\n",
    "\n",
    "    return lids_clean, lids_fgsm, lids_bim, lids_deepfool, lids_cw"
   ]
  },
  {
   "cell_type": "code",
   "execution_count": 75,
   "id": "0fed86ab-da36-4ed6-9028-e604ef1f2ed1",
   "metadata": {
    "execution": {
     "iopub.execute_input": "2023-05-24T01:13:21.666950Z",
     "iopub.status.busy": "2023-05-24T01:13:21.666434Z",
     "iopub.status.idle": "2023-05-24T01:13:25.735357Z",
     "shell.execute_reply": "2023-05-24T01:13:25.734815Z",
     "shell.execute_reply.started": "2023-05-24T01:13:21.666930Z"
    }
   },
   "outputs": [
    {
     "name": "stderr",
     "output_type": "stream",
     "text": [
      "100%|██████████| 80/80 [00:03<00:00, 24.56it/s]\n",
      "100%|██████████| 20/20 [00:00<00:00, 24.87it/s]\n"
     ]
    }
   ],
   "source": [
    "lids_clean_train, lids_fgsm_train, lids_bim_train, lids_deepfool_train, lids_cw_train = \\\n",
    "    get_lids(model, X_clean_train, X_fgsm_train, X_bim_train, X_deepfool_train, X_cw_train, k)\n",
    "lids_clean_test, lids_fgsm_test, lids_bim_test, lids_deepfool_test, lids_cw_test = \\\n",
    "    get_lids(model, X_clean_test, X_fgsm_test, X_bim_test, X_deepfool_test, X_cw_test, k)"
   ]
  },
  {
   "cell_type": "code",
   "execution_count": 76,
   "id": "5bfbfdea-f9d1-4dbd-ba8f-02acae0fca6f",
   "metadata": {
    "execution": {
     "iopub.execute_input": "2023-05-24T01:13:34.838630Z",
     "iopub.status.busy": "2023-05-24T01:13:34.837952Z",
     "iopub.status.idle": "2023-05-24T01:13:34.991903Z",
     "shell.execute_reply": "2023-05-24T01:13:34.991170Z",
     "shell.execute_reply.started": "2023-05-24T01:13:34.838608Z"
    }
   },
   "outputs": [
    {
     "data": {
      "image/png": "[encoded data removed]",
      "text/plain": [
       "<Figure size 700x600 with 1 Axes>"
      ]
     },
     "metadata": {},
     "output_type": "display_data"
    }
   ],
   "source": [
    "values_train_fgsm, labels_train_fgsm = form_detection_data(lids_clean_train, lids_fgsm_train)\n",
    "values_test_fgsm, labels_test_fgsm = form_detection_data(lids_clean_test, lids_fgsm_test)\n",
    "detector_fgsm_lid = train_detector(values_train_fgsm, labels_train_fgsm)\n",
    "probs = torch.tensor(detector_fgsm_lid.predict_proba(values_test_fgsm)[:, 1])\n",
    "_, _, auc_score = compute_roc(labels_test_fgsm, probs, plot=True)"
   ]
  },
  {
   "cell_type": "code",
   "execution_count": 134,
   "id": "76f16254-c900-4bce-b8c3-f8451c0ab20e",
   "metadata": {
    "execution": {
     "iopub.execute_input": "2023-05-24T07:17:20.847473Z",
     "iopub.status.busy": "2023-05-24T07:17:20.846905Z",
     "iopub.status.idle": "2023-05-24T07:17:21.194287Z",
     "shell.execute_reply": "2023-05-24T07:17:21.193078Z",
     "shell.execute_reply.started": "2023-05-24T07:17:20.847450Z"
    }
   },
   "outputs": [
    {
     "data": {
      "image/png": "[encoded data removed]",
      "text/plain": [
       "<Figure size 700x600 with 1 Axes>"
      ]
     },
     "metadata": {},
     "output_type": "display_data"
    }
   ],
   "source": [
    "values_train_bim, labels_train_bim = form_detection_data(lids_clean_train, lids_bim_train)\n",
    "values_test_bim, labels_test_bim = form_detection_data(lids_clean_test, lids_bim_test)\n",
    "detector_bim_lid = train_detector(values_train_bim, labels_train_bim)\n",
    "probs = torch.tensor(detector_bim_lid.predict_proba(values_test_bim)[:, 1])\n",
    "_, _, auc_score = compute_roc(labels_test_bim, probs, plot=True)"
   ]
  },
  {
   "cell_type": "code",
   "execution_count": 80,
   "id": "76d1077d-ab3d-4374-8fb4-d79d1bb86629",
   "metadata": {
    "execution": {
     "iopub.execute_input": "2023-05-24T01:13:51.306491Z",
     "iopub.status.busy": "2023-05-24T01:13:51.305959Z",
     "iopub.status.idle": "2023-05-24T01:13:51.465697Z",
     "shell.execute_reply": "2023-05-24T01:13:51.465165Z",
     "shell.execute_reply.started": "2023-05-24T01:13:51.306469Z"
    }
   },
   "outputs": [
    {
     "data": {
      "image/png": "[encoded data removed]",
      "text/plain": [
       "<Figure size 700x600 with 1 Axes>"
      ]
     },
     "metadata": {},
     "output_type": "display_data"
    }
   ],
   "source": [
    "values_train_deepfool, labels_train_deepfool = form_detection_data(lids_clean_train, lids_deepfool_train)\n",
    "values_test_deepfool, labels_test_deepfool = form_detection_data(lids_clean_test, lids_deepfool_test)\n",
    "detector_deepfool_lid = train_detector(values_train_deepfool, labels_train_deepfool)\n",
    "probs = torch.tensor(detector_deepfool_lid.predict_proba(values_test_deepfool)[:, 1])\n",
    "_, _, auc_score = compute_roc(labels_test_deepfool, probs, plot=True)"
   ]
  },
  {
   "cell_type": "code",
   "execution_count": 133,
   "id": "e29f5116-1df7-47d8-b9fd-c8eeb80ae8b9",
   "metadata": {
    "execution": {
     "iopub.execute_input": "2023-05-24T07:17:06.982523Z",
     "iopub.status.busy": "2023-05-24T07:17:06.982263Z",
     "iopub.status.idle": "2023-05-24T07:17:08.533855Z",
     "shell.execute_reply": "2023-05-24T07:17:08.533319Z",
     "shell.execute_reply.started": "2023-05-24T07:17:06.982506Z"
    }
   },
   "outputs": [
    {
     "data": {
      "image/png": "[encoded data removed]",
      "text/plain": [
       "<Figure size 700x600 with 1 Axes>"
      ]
     },
     "metadata": {},
     "output_type": "display_data"
    }
   ],
   "source": [
    "values_train_cw, labels_train_cw = form_detection_data(lids_clean_train, lids_cw_train)\n",
    "values_test_cw, labels_test_cw = form_detection_data(lids_clean_test, lids_cw_test)\n",
    "detector_cw_lid = train_detector(values_train_cw, labels_train_cw)\n",
    "probs = torch.tensor(detector_cw_lid.predict_proba(values_test_cw)[:, 1])\n",
    "_, _, auc_score = compute_roc(labels_test_cw, probs, plot=True)"
   ]
  },
  {
   "cell_type": "markdown",
   "id": "da5570cb-2eff-4d71-8d51-1f05f7a11718",
   "metadata": {},
   "source": [
    "## Mahalanobis distance"
   ]
  },
  {
   "cell_type": "code",
   "execution_count": 132,
   "id": "b270c4fc-7752-4e04-b88b-20e7bbebd6bc",
   "metadata": {
    "execution": {
     "iopub.execute_input": "2023-05-24T07:16:01.200136Z",
     "iopub.status.busy": "2023-05-24T07:16:01.199580Z",
     "iopub.status.idle": "2023-05-24T07:16:01.203772Z",
     "shell.execute_reply": "2023-05-24T07:16:01.203241Z",
     "shell.execute_reply.started": "2023-05-24T07:16:01.200116Z"
    }
   },
   "outputs": [],
   "source": [
    "layer_list = list(model.modules())\n",
    "layer_indices = []\n",
    "\n",
    "for i in range(1, len(layer_list)):\n",
    "    if isinstance(layer_list[i], nn.modules.conv.Conv2d) or \\\n",
    "       isinstance(layer_list[i], nn.modules.linear.Linear) or \\\n",
    "       isinstance(layer_list[i], nn.modules.batchnorm.BatchNorm2d):\n",
    "        layer_indices.append(i)"
   ]
  },
  {
   "cell_type": "code",
   "execution_count": 192,
   "id": "72610834-f903-49fd-ba2c-18a1dc8734cc",
   "metadata": {
    "execution": {
     "iopub.execute_input": "2023-05-23T21:32:50.356517Z",
     "iopub.status.busy": "2023-05-23T21:32:50.355767Z",
     "iopub.status.idle": "2023-05-23T21:32:50.360384Z",
     "shell.execute_reply": "2023-05-23T21:32:50.359843Z",
     "shell.execute_reply.started": "2023-05-23T21:32:50.356492Z"
    }
   },
   "outputs": [],
   "source": [
    "def get_layer_output_batch(model, X):\n",
    "    hook_handlers = []\n",
    "    outputs = []\n",
    "    \n",
    "    def layer_hook(module, input_, output):\n",
    "        outputs.append(output)\n",
    "    \n",
    "    for layer in model.modules():\n",
    "        if isinstance(layer, nn.modules.conv.Conv2D) or \\\n",
    "           isinstance(layer, nn.modules.linear.Linear) or \\\n",
    "           isinstance(layer, nn.modules.batchnorm.BatchNorm2d):\n",
    "            handle = layer.register_forward_hook(layer_hook)\n",
    "            hook_handlers.append(handle)\n",
    "    \n",
    "    _ = model(X)\n",
    "    \n",
    "    return outputs            "
   ]
  },
  {
   "cell_type": "code",
   "execution_count": 17,
   "id": "b4cb6840-e91f-4e98-a400-32cd5f092033",
   "metadata": {
    "execution": {
     "iopub.execute_input": "2023-05-22T18:19:32.758108Z",
     "iopub.status.busy": "2023-05-22T18:19:32.756974Z",
     "iopub.status.idle": "2023-05-22T18:19:32.769172Z",
     "shell.execute_reply": "2023-05-22T18:19:32.767802Z",
     "shell.execute_reply.started": "2023-05-22T18:19:32.758038Z"
    }
   },
   "outputs": [],
   "source": [
    "def get_layer_outputs_batch(model, X):\n",
    "    hook_handlers = []\n",
    "    outputs = []\n",
    "    \n",
    "    def layer_hook(module, input_, output):\n",
    "        outputs.append(output)\n",
    "    \n",
    "    for layer in model.modules():\n",
    "        if isinstance(layer, nn.modules.conc.Conv2D) or \\\n",
    "           isinstance(layer, nn.modules.linear.Linear) or \\\n",
    "           isinstance(layer, nn.modules.batchnorm.BatchNorm2d):\n",
    "            handle = layer.register_forward_hook(layer_hook)\n",
    "            hook_handlers.append(handle)\n",
    "    \n",
    "    _ = model(X)\n",
    "    \n",
    "    return outputs            "
   ]
  },
  {
   "cell_type": "code",
   "execution_count": 165,
   "id": "f81042bf-674c-49b1-b2a6-8ba5010de434",
   "metadata": {
    "execution": {
     "iopub.execute_input": "2023-05-23T15:08:37.100451Z",
     "iopub.status.busy": "2023-05-23T15:08:37.099819Z",
     "iopub.status.idle": "2023-05-23T15:08:37.111511Z",
     "shell.execute_reply": "2023-05-23T15:08:37.110952Z",
     "shell.execute_reply.started": "2023-05-23T15:08:37.100427Z"
    }
   },
   "outputs": [],
   "source": [
    "def get_Mahalanobis_score_adv(model, test_data, test_label, num_classes, sample_mean, precision, layer_index, magnitude=0.0):\n",
    "    '''\n",
    "    Compute the proposed Mahalanobis confidence score on adversarial samples\n",
    "    return: Mahalanobis score from layer_index\n",
    "    '''\n",
    "    model.eval()\n",
    "    Mahalanobis = []\n",
    "    batch_size = 100\n",
    "    total = 0\n",
    "    \n",
    "    for data_index in range(int(np.floor(test_data.size(0)/batch_size))):\n",
    "        target = test_label[total : total + batch_size].cuda()\n",
    "        data = test_data[total : total + batch_size].cuda()\n",
    "        total += batch_size\n",
    "        data, target = Variable(data, requires_grad = True), Variable(target)\n",
    "        \n",
    "        out_features = model.get_hidden_output(data, layer_index)\n",
    "        out_features = out_features.view(out_features.size(0), out_features.size(1), -1)\n",
    "        out_features = torch.mean(out_features, 2)\n",
    "        \n",
    "        gaussian_score = 0\n",
    "        for i in range(num_classes):\n",
    "            batch_sample_mean = sample_mean[layer_index][i]\n",
    "            zero_f = out_features.data - batch_sample_mean\n",
    "            term_gau = -0.5*torch.mm(torch.mm(zero_f, precision[layer_index]), zero_f.t()).diag()\n",
    "            if i == 0:\n",
    "                gaussian_score = term_gau.view(-1,1)\n",
    "            else:\n",
    "                gaussian_score = torch.cat((gaussian_score, term_gau.view(-1,1)), 1)\n",
    "        \n",
    "        # Input_processing\n",
    "        sample_pred = gaussian_score.max(1)[1]\n",
    "        batch_sample_mean = sample_mean[layer_index].index_select(0, sample_pred)\n",
    "        zero_f = out_features - Variable(batch_sample_mean)\n",
    "        pure_gau = -0.5*torch.mm(torch.mm(zero_f, Variable(precision[layer_index])), zero_f.t()).diag()\n",
    "        loss = torch.mean(-pure_gau)\n",
    "        loss.backward()\n",
    "            \n",
    "        gradient =  torch.ge(data.grad.data, 0)\n",
    "        gradient = (gradient.float() - 0.5) * 2\n",
    "        if net_type == 'densenet':\n",
    "            gradient.index_copy_(1, torch.LongTensor([0]).cuda(), gradient.index_select(1, torch.LongTensor([0]).cuda()) / (63.0/255.0))\n",
    "            gradient.index_copy_(1, torch.LongTensor([1]).cuda(), gradient.index_select(1, torch.LongTensor([1]).cuda()) / (62.1/255.0))\n",
    "            gradient.index_copy_(1, torch.LongTensor([2]).cuda(), gradient.index_select(1, torch.LongTensor([2]).cuda()) / (66.7/255.0))\n",
    "        elif net_type == 'resnet':\n",
    "            gradient.index_copy_(1, torch.LongTensor([0]).cuda(), gradient.index_select(1, torch.LongTensor([0]).cuda()) / (0.2023))\n",
    "            gradient.index_copy_(1, torch.LongTensor([1]).cuda(), gradient.index_select(1, torch.LongTensor([1]).cuda()) / (0.1994))\n",
    "            gradient.index_copy_(1, torch.LongTensor([2]).cuda(), gradient.index_select(1, torch.LongTensor([2]).cuda()) / (0.2010))\n",
    "        tempInputs = torch.add(data.data, -magnitude, gradient)\n",
    "    \n",
    "        noise_out_features = model.get_hidden_output(Variable(tempInputs, volatile=True), layer_index)\n",
    "        noise_out_features = noise_out_features.view(noise_out_features.size(0), noise_out_features.size(1), -1)\n",
    "        noise_out_features = torch.mean(noise_out_features, 2)\n",
    "        noise_gaussian_score = 0\n",
    "        for i in range(num_classes):\n",
    "            batch_sample_mean = sample_mean[layer_index][i]\n",
    "            zero_f = noise_out_features.data - batch_sample_mean\n",
    "            term_gau = -0.5*torch.mm(torch.mm(zero_f, precision[layer_index]), zero_f.t()).diag()\n",
    "            if i == 0:\n",
    "                noise_gaussian_score = term_gau.view(-1,1)\n",
    "            else:\n",
    "                noise_gaussian_score = torch.cat((noise_gaussian_score, term_gau.view(-1,1)), 1)      \n",
    "\n",
    "        noise_gaussian_score, _ = torch.max(noise_gaussian_score, dim=1)\n",
    "        Mahalanobis.extend(noise_gaussian_score.cpu().numpy())\n",
    "        \n",
    "    return Mahalanobis"
   ]
  },
  {
   "cell_type": "code",
   "execution_count": null,
   "id": "7efd7f38-ea64-4cd3-af1f-2ed1f6581b21",
   "metadata": {},
   "outputs": [],
   "source": [
    "def sample_estimator(model, num_classes, feature_list, train_loader):\n",
    "    \"\"\"\n",
    "    compute sample mean and precision (inverse of covariance)\n",
    "    return: sample_class_mean: list of class mean\n",
    "             precision: list of precisions\n",
    "    \"\"\"\n",
    "    import sklearn.covariance\n",
    "    \n",
    "    model.eval()\n",
    "    group_lasso = sklearn.covariance.EmpiricalCovariance(assume_centered=False)\n",
    "    correct, total = 0, 0\n",
    "    num_output = len(feature_list)\n",
    "    num_sample_per_class = np.empty(num_classes)\n",
    "    num_sample_per_class.fill(0)\n",
    "    list_features = []\n",
    "    for i in range(num_output):\n",
    "        temp_list = []\n",
    "        for j in range(num_classes):\n",
    "            temp_list.append(0)\n",
    "        list_features.append(temp_list)\n",
    "    \n",
    "    for data, target in train_loader:\n",
    "        total += data.size(0)\n",
    "        data = data.cuda()\n",
    "        data = Variable(data, volatile=True)\n",
    "        output, out_features = model.feature_list(data)\n",
    "        \n",
    "        # get hidden features\n",
    "        for i in range(num_output):\n",
    "            out_features[i] = out_features[i].view(out_features[i].size(0), out_features[i].size(1), -1)\n",
    "            out_features[i] = torch.mean(out_features[i].data, 2)\n",
    "            \n",
    "        # compute the accuracy\n",
    "        pred = output.data.max(1)[1]\n",
    "        equal_flag = pred.eq(target.cuda()).cpu()\n",
    "        correct += equal_flag.sum()\n",
    "        \n",
    "        # construct the sample matrix\n",
    "        for i in range(data.size(0)):\n",
    "            label = target[i]\n",
    "            if num_sample_per_class[label] == 0:\n",
    "                out_count = 0\n",
    "                for out in out_features:\n",
    "                    list_features[out_count][label] = out[i].view(1, -1)\n",
    "                    out_count += 1\n",
    "            else:\n",
    "                out_count = 0\n",
    "                for out in out_features:\n",
    "                    list_features[out_count][label] \\\n",
    "                    = torch.cat((list_features[out_count][label], out[i].view(1, -1)), 0)\n",
    "                    out_count += 1                \n",
    "            num_sample_per_class[label] += 1\n",
    "            \n",
    "    sample_class_mean = []\n",
    "    out_count = 0\n",
    "    for num_feature in feature_list:\n",
    "        temp_list = torch.Tensor(num_classes, int(num_feature)).cuda()\n",
    "        for j in range(num_classes):\n",
    "            temp_list[j] = torch.mean(list_features[out_count][j], 0)\n",
    "        sample_class_mean.append(temp_list)\n",
    "        out_count += 1\n",
    "        \n",
    "    precision = []\n",
    "    for k in range(num_output):\n",
    "        X = 0\n",
    "        for i in range(num_classes):\n",
    "            if i == 0:\n",
    "                X = list_features[k][i] - sample_class_mean[k][i]\n",
    "            else:\n",
    "                X = torch.cat((X, list_features[k][i] - sample_class_mean[k][i]), 0)\n",
    "                \n",
    "        # find inverse            \n",
    "        group_lasso.fit(X.cpu().numpy())\n",
    "        temp_precision = group_lasso.precision_\n",
    "        temp_precision = torch.from_numpy(temp_precision).float().cuda()\n",
    "        precision.append(temp_precision)\n",
    "        \n",
    "    print('\\n Training Accuracy:({:.2f}%)\\n'.format(100. * correct / total))\n",
    "\n",
    "    return sample_class_mean, precision"
   ]
  },
  {
   "cell_type": "markdown",
   "id": "88dba8ad-d2ba-41c6-8bed-72ccb07c55de",
   "metadata": {},
   "source": [
    "## Saving detectors for future research"
   ]
  },
  {
   "cell_type": "code",
   "execution_count": null,
   "id": "f03f24ec-6918-4f10-9eae-5d74d5c77836",
   "metadata": {
    "execution": {
     "iopub.status.busy": "2023-05-24T09:06:22.069009Z",
     "iopub.status.idle": "2023-05-24T09:06:22.069566Z",
     "shell.execute_reply": "2023-05-24T09:06:22.069431Z",
     "shell.execute_reply.started": "2023-05-24T09:06:22.069418Z"
    }
   },
   "outputs": [],
   "source": [
    "from sklearn.externals import joblib"
   ]
  },
  {
   "cell_type": "code",
   "execution_count": null,
   "id": "c77a68e9-70e3-434e-8708-46ee18231ff1",
   "metadata": {
    "execution": {
     "iopub.status.busy": "2023-05-24T09:06:22.070164Z",
     "iopub.status.idle": "2023-05-24T09:06:22.070373Z",
     "shell.execute_reply": "2023-05-24T09:06:22.070275Z",
     "shell.execute_reply.started": "2023-05-24T09:06:22.070265Z"
    }
   },
   "outputs": [],
   "source": [
    "def save_detector(detector, method_name, attack_name):\n",
    "    filename = method_name + '_' + attack_name '_' + 'detector.pkl'\n",
    "    joblib.dump(detector, filename)"
   ]
  },
  {
   "cell_type": "code",
   "execution_count": null,
   "id": "df2e9efe-35de-4957-bc59-89f0f774f52e",
   "metadata": {
    "execution": {
     "iopub.status.busy": "2023-05-24T09:06:22.071181Z",
     "iopub.status.idle": "2023-05-24T09:06:22.071383Z",
     "shell.execute_reply": "2023-05-24T09:06:22.071293Z",
     "shell.execute_reply.started": "2023-05-24T09:06:22.071284Z"
    }
   },
   "outputs": [],
   "source": [
    "def load_detector(method_name, attack_name):\n",
    "    filename = f'{method_name}_{attack_name}_detector.pkl'\n",
    "    return joblib.load(filename)"
   ]
  },
  {
   "cell_type": "code",
   "execution_count": null,
   "id": "7e0e3bf9-22e8-45fe-85e4-add8f43eeea4",
   "metadata": {
    "execution": {
     "iopub.status.busy": "2023-05-24T09:06:22.073707Z",
     "iopub.status.idle": "2023-05-24T09:06:22.073886Z",
     "shell.execute_reply": "2023-05-24T09:06:22.073809Z",
     "shell.execute_reply.started": "2023-05-24T09:06:22.073800Z"
    }
   },
   "outputs": [],
   "source": [
    "save_detector(detector_fgsm_kde, 'kde', 'fgsm')\n",
    "save_detector(detector_bim_kde, 'kde', 'bim')\n",
    "save_detector(detector_deepfool_kde, 'kde', 'deepfool')\n",
    "save_detector(detector_cw_kde, 'kde', 'cw')\n",
    "save_detector(detector_fgsm_bu, 'bu', 'fgsm')\n",
    "save_detector(detector_bim_bu, 'bu', 'bim')\n",
    "save_detector(detector_deepfool_bu, 'bu', 'deepfool')\n",
    "save_detector(detector_cw_bu, 'bu', 'cw')\n",
    "save_detector(detector_fgsm_lid, 'lid', 'fgsm')\n",
    "save_detector(detector_bim_lid, 'lid', 'bim')\n",
    "save_detector(detector_deepfool_lid, 'lid', 'deepfool')\n",
    "save_detector(detector_cw_lid, 'lid', 'cw')\n",
    "#save_detector(detector_fgsm_md, 'md', 'fgsm')\n",
    "#save_detector(detector_bim_md, 'md', 'bim')\n",
    "#save_detector(detector_deepfool_md, 'md', 'deepfool')\n",
    "#save_detector(detector_cw_md, 'md', 'cw')"
   ]
  }
 ],
 "metadata": {
  "kernelspec": {
   "display_name": "Python 3 (ipykernel)",
   "language": "python",
   "name": "python3"
  },
  "language_info": {
   "codemirror_mode": {
    "name": "ipython",
    "version": 3
   },
   "file_extension": ".py",
   "mimetype": "text/x-python",
   "name": "python",
   "nbconvert_exporter": "python",
   "pygments_lexer": "ipython3",
   "version": "3.10.6"
  }
 },
 "nbformat": 4,
 "nbformat_minor": 5
}
