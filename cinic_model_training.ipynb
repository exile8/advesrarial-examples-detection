{
 "cells": [
  {
   "cell_type": "code",
   "execution_count": null,
   "metadata": {
    "id": "XKOd42OgM3Zj"
   },
   "outputs": [],
   "source": [
    "import tarfile\n",
    "import numpy as np\n",
    "import matplotlib.pyplot as plt\n",
    "from tqdm import tqdm\n",
    "import torch\n",
    "import torch.nn as nn\n",
    "import torch.nn.functional as F\n",
    "import torch.optim as optim\n",
    "from torch.utils.data import DataLoader\n",
    "from torchvision import transforms\n",
    "from torchvision.datasets import ImageFolder"
   ]
  },
  {
   "cell_type": "code",
   "execution_count": null,
   "metadata": {
    "id": "98nKOg9zh7r8"
   },
   "outputs": [],
   "source": [
    "cinic_tar_path = './CINIC-10.tar.gz'"
   ]
  },
  {
   "cell_type": "code",
   "execution_count": null,
   "metadata": {
    "id": "E6X43IA-eSFX"
   },
   "outputs": [],
   "source": [
    "dataset_tar = tarfile.open(cinic_tar_path)\n",
    "dataset_tar.extractall('./cinic10root')\n",
    "dataset_tar.close()"
   ]
  },
  {
   "cell_type": "code",
   "execution_count": null,
   "metadata": {
    "id": "YV0rOQrAjy-6"
   },
   "outputs": [],
   "source": [
    "cinic_root_dir = './cinic10root'\n",
    "cinic_mean = [0.47889522, 0.47227842, 0.43047404]\n",
    "cinic_std = [0.24205776, 0.23828046, 0.25874835]"
   ]
  },
  {
   "cell_type": "code",
   "execution_count": null,
   "metadata": {
    "id": "a_LTE_DEf3t_"
   },
   "outputs": [],
   "source": [
    "tf = transforms.Compose([transforms.ToTensor(), transforms.Normalize(mean=cinic_mean,std=cinic_std)])"
   ]
  },
  {
   "cell_type": "code",
   "execution_count": null,
   "metadata": {
    "id": "pPqm_exZ5IPc"
   },
   "outputs": [],
   "source": [
    "train_data = ImageFolder(cinic_root_dir + '/train', transform=tf)\n",
    "valid_data = ImageFolder(cinic_root_dir + '/valid', transform=tf)\n",
    "test_data = ImageFolder(cinic_root_dir + '/test', transform=tf)"
   ]
  },
  {
   "cell_type": "code",
   "execution_count": null,
   "metadata": {
    "id": "9wZ2bKzx-dgW"
   },
   "outputs": [],
   "source": [
    "train_loader = DataLoader(train_data, batch_size=256, shuffle=True)\n",
    "valid_loader = DataLoader(valid_data, batch_size=256, shuffle=True)\n",
    "test_loader = DataLoader(test_data, batch_size=256, shuffle=True)"
   ]
  },
  {
   "cell_type": "code",
   "execution_count": null,
   "metadata": {
    "colab": {
     "base_uri": "https://localhost:8080/",
     "height": 749
    },
    "id": "9Ab1zzQe_ctD",
    "outputId": "54bdd4d4-9a8c-4f29-b040-1e34aeaa9b4e"
   },
   "outputs": [],
   "source": [
    "from random import sample\n",
    "\n",
    "examples = sample(test_data.imgs, 25)\n",
    "\n",
    "fig = plt.figure(figsize=(10, 8))\n",
    "n_rows = 5\n",
    "n_cols = 5\n",
    "for index in range(1, n_rows * n_cols + 1):\n",
    "  plt.subplot(n_rows, n_cols, index)\n",
    "  plt.axis('off')\n",
    "  plt.imshow(test_data.loader(examples[index - 1][0]))\n",
    "  title = f'{test_data.classes[examples[index - 1][1]]}'\n",
    "  plt.title(title, fontsize=8)\n",
    "plt.suptitle('CINIC-10 dataset')"
   ]
  },
  {
   "cell_type": "code",
   "execution_count": null,
   "metadata": {
    "id": "YtiPc9ujV407"
   },
   "outputs": [],
   "source": [
    "def train_step(model, train_loader, loss_fn, optimizer, device):\n",
    "  model.train()\n",
    "  running_loss = 0\n",
    "  num_correct_pred = 0\n",
    "\n",
    "  for X, y_true in train_loader:\n",
    "    optimizer.zero_grad()\n",
    "    X = X.to(device)\n",
    "    y_true = y_true.to(device)\n",
    "\n",
    "    y_hat = model(X)\n",
    "\n",
    "    loss = loss_fn(y_hat, y_true)\n",
    "\n",
    "    pred_labels = torch.argmax(y_hat, 1)\n",
    "    num_correct_pred += (pred_labels == y_true).sum()\n",
    "\n",
    "    running_loss += loss.item() * X.size(0)\n",
    "\n",
    "    loss.backward()\n",
    "    optimizer.step()\n",
    "\n",
    "  epoch_loss = running_loss / len(train_loader.dataset)\n",
    "  epoch_accuracy = num_correct_pred / len(train_loader.dataset)\n",
    "  return model, optimizer, epoch_loss, epoch_accuracy"
   ]
  },
  {
   "cell_type": "code",
   "execution_count": null,
   "metadata": {
    "id": "5RfFvMAgZFVf"
   },
   "outputs": [],
   "source": [
    "def valid_step(model, valid_loader, loss_fn, device):\n",
    "  model.eval()\n",
    "  running_loss = 0\n",
    "  num_correct_pred = 0\n",
    "\n",
    "  for X, y_true in valid_loader:\n",
    "    X = X.to(device)\n",
    "    y_true = y_true.to(device)\n",
    "\n",
    "    y_hat = model(X)\n",
    "\n",
    "    loss = loss_fn(y_hat, y_true)\n",
    "\n",
    "    pred_labels = torch.argmax(y_hat, 1)\n",
    "    num_correct_pred += (pred_labels == y_true).sum()\n",
    "\n",
    "    running_loss += loss.item() * X.size(0)\n",
    "  \n",
    "  epoch_loss = running_loss / len(valid_loader.dataset)\n",
    "  epoch_accuracy = num_correct_pred / len(valid_loader.dataset)\n",
    "  return model, epoch_loss, epoch_accuracy"
   ]
  },
  {
   "cell_type": "code",
   "execution_count": null,
   "metadata": {
    "id": "mNCfD74waQOL"
   },
   "outputs": [],
   "source": [
    "def training_loop(model, train_loader, valid_loader, loss_fn, optimizer, n_epochs, scheduler, device):\n",
    "\n",
    "  train_losses = []\n",
    "  valid_losses = []\n",
    "\n",
    "  best_accuracy = 0\n",
    "\n",
    "  for epoch in tqdm(range(n_epochs), desc='Epoch'):\n",
    "    model, optimizer, train_loss, train_accuracy = train_step(model, train_loader, loss_fn, optimizer, device)\n",
    "    train_losses.append(train_loss)\n",
    "\n",
    "    with torch.no_grad():\n",
    "      model, valid_loss, valid_accuracy = valid_step(model, test_loader, loss_fn, device)\n",
    "      valid_losses.append(valid_loss)\n",
    "\n",
    "    print(f'Train loss:{train_loss:.4f} Validation loss:{valid_loss:.4f} Train accuracy:{train_accuracy * 100:.2f}% Validation accuracy:{valid_accuracy * 100:.2f}%')\n",
    "\n",
    "    if valid_accuracy > best_accuracy:\n",
    "      best_accuracy = valid_accuracy\n",
    "      torch.save({\n",
    "                  'epoch': epoch,\n",
    "                  'model_state_dict': model.state_dict(),\n",
    "                  'optimizer_state_dict': optimizer.state_dict(),\n",
    "                  'loss': valid_loss,\n",
    "                 }, './checkpt.tar')\n",
    "    \n",
    "    scheduler.step()\n",
    "\n",
    "  return model, optimizer, train_losses, valid_losses"
   ]
  },
  {
   "cell_type": "code",
   "execution_count": null,
   "metadata": {
    "id": "mm_RIqNjeD73"
   },
   "outputs": [],
   "source": [
    "def test(model, test_loader, loss_fn, device):\n",
    "  checkpoint = torch.load('./checkpt.tar')\n",
    "  model.load_state_dict(checkpoint['model_state_dict'])\n",
    "  model.eval()\n",
    "  running_loss = 0\n",
    "  num_correct_pred = 0\n",
    "\n",
    "  for X, y_true in test_loader:\n",
    "    X = X.to(device)\n",
    "    y_true = y_true.to(device)\n",
    "\n",
    "    y_hat = model(X)\n",
    "\n",
    "    loss = loss_fn(y_hat, y_true)\n",
    "\n",
    "    pred_labels = torch.argmax(y_hat, 1)\n",
    "    num_correct_pred += (pred_labels == y_true).sum()\n",
    "\n",
    "    running_loss += loss.item() * X.size(0)\n",
    "  \n",
    "  test_loss = running_loss / len(test_loader.dataset)\n",
    "  test_accuracy = num_correct_pred / len(test_loader.dataset)\n",
    "  return model, test_loss, test_accuracy"
   ]
  },
  {
   "cell_type": "code",
   "execution_count": null,
   "metadata": {
    "id": "9PmW0gGDcDq6"
   },
   "outputs": [],
   "source": [
    "'''\n",
    "  ResNet18 from a popular repository\n",
    "  url:https://github.com/kuangliu/pytorch-cifar/blob/master/models/resnet.py\n",
    "  Modification:\n",
    "  * a dropout layer for randomization\n",
    "'''\n",
    "\n",
    "class BasicBlock(nn.Module):\n",
    "  expansion = 1\n",
    "\n",
    "  def __init__(self, in_planes, planes, stride=1):\n",
    "    super(BasicBlock, self).__init__()\n",
    "    self.conv1 = nn.Conv2d(\n",
    "        in_planes, planes, kernel_size=3, stride=stride, padding=1, bias=False)\n",
    "    self.bn1 = nn.BatchNorm2d(planes)\n",
    "    self.conv2 = nn.Conv2d(planes, planes, kernel_size=3,\n",
    "                            stride=1, padding=1, bias=False)\n",
    "    self.bn2 = nn.BatchNorm2d(planes)\n",
    "\n",
    "    self.shortcut = nn.Sequential()\n",
    "    if stride != 1 or in_planes != self.expansion*planes:\n",
    "        self.shortcut = nn.Sequential(\n",
    "            nn.Conv2d(in_planes, self.expansion*planes,\n",
    "                      kernel_size=1, stride=stride, bias=False),\n",
    "            nn.BatchNorm2d(self.expansion*planes)\n",
    "        )\n",
    "\n",
    "  def forward(self, x):\n",
    "    out = F.relu(self.bn1(self.conv1(x)))\n",
    "    out = self.bn2(self.conv2(out))\n",
    "    out += self.shortcut(x)\n",
    "    out = F.relu(out)\n",
    "    return out\n",
    "\n",
    "'''\n",
    "class Bottleneck(nn.Module):\n",
    "    expansion = 4\n",
    "\n",
    "    def __init__(self, in_planes, planes, stride=1):\n",
    "        super(Bottleneck, self).__init__()\n",
    "        self.conv1 = nn.Conv2d(in_planes, planes, kernel_size=1, bias=False)\n",
    "        self.bn1 = nn.BatchNorm2d(planes)\n",
    "        self.conv2 = nn.Conv2d(planes, planes, kernel_size=3,\n",
    "                               stride=stride, padding=1, bias=False)\n",
    "        self.bn2 = nn.BatchNorm2d(planes)\n",
    "        self.conv3 = nn.Conv2d(planes, self.expansion *\n",
    "                               planes, kernel_size=1, bias=False)\n",
    "        self.bn3 = nn.BatchNorm2d(self.expansion*planes)\n",
    "\n",
    "        self.shortcut = nn.Sequential()\n",
    "        if stride != 1 or in_planes != self.expansion*planes:\n",
    "            self.shortcut = nn.Sequential(\n",
    "                nn.Conv2d(in_planes, self.expansion*planes,\n",
    "                          kernel_size=1, stride=stride, bias=False),\n",
    "                nn.BatchNorm2d(self.expansion*planes)\n",
    "            )\n",
    "\n",
    "    def forward(self, x):\n",
    "        out = F.relu(self.bn1(self.conv1(x)))\n",
    "        out = F.relu(self.bn2(self.conv2(out)))\n",
    "        out = self.bn3(self.conv3(out))\n",
    "        out += self.shortcut(x)\n",
    "        out = F.relu(out)\n",
    "        return out\n",
    "'''\n",
    "\n",
    "class ResNet(nn.Module):\n",
    "  def __init__(self, block, num_blocks, num_classes=10):\n",
    "    super(ResNet, self).__init__()\n",
    "    self.in_planes = 64\n",
    "\n",
    "    self.conv1 = nn.Conv2d(3, 64, kernel_size=3,\n",
    "                           stride=1, padding=1, bias=False)\n",
    "    self.bn1 = nn.BatchNorm2d(64)\n",
    "    self.layer1 = self._make_layer(block, 64, num_blocks[0], stride=1)\n",
    "    self.layer2 = self._make_layer(block, 128, num_blocks[1], stride=2)\n",
    "    self.layer3 = self._make_layer(block, 256, num_blocks[2], stride=2)\n",
    "    self.layer4 = self._make_layer(block, 512, num_blocks[3], stride=2)\n",
    "    self.linear = nn.Linear(512*block.expansion, num_classes)\n",
    "\n",
    "  def _make_layer(self, block, planes, num_blocks, stride):\n",
    "    strides = [stride] + [1]*(num_blocks-1)\n",
    "    layers = []\n",
    "    for stride in strides:\n",
    "        layers.append(block(self.in_planes, planes, stride))\n",
    "        self.in_planes = planes * block.expansion\n",
    "    return nn.Sequential(*layers)\n",
    "\n",
    "  def forward(self, x):\n",
    "    out = F.relu(self.bn1(self.conv1(x)))\n",
    "    out = self.layer1(out)\n",
    "    out = self.layer2(out)\n",
    "    out = self.layer3(out)\n",
    "    out = self.layer4(out)\n",
    "    out = F.avg_pool2d(out, 4)\n",
    "    out = out.view(out.size(0), -1)\n",
    "    out = self.linear(out)\n",
    "    return out\n",
    "\n",
    "\n",
    "def ResNet18():\n",
    "    return ResNet(BasicBlock, [2, 2, 2, 2])"
   ]
  },
  {
   "cell_type": "code",
   "execution_count": null,
   "metadata": {
    "id": "IWyRJ09PwG8o"
   },
   "outputs": [],
   "source": [
    "device = 'cuda' if torch.cuda.is_available() else 'cpu'"
   ]
  },
  {
   "cell_type": "code",
   "execution_count": null,
   "metadata": {
    "id": "nzEMsvwEyVl7"
   },
   "outputs": [],
   "source": [
    "model = ResNet18().to(device)"
   ]
  },
  {
   "cell_type": "code",
   "execution_count": null,
   "metadata": {
    "colab": {
     "base_uri": "https://localhost:8080/"
    },
    "id": "YIj_s-ng66vr",
    "outputId": "3c4fda39-0118-4ef3-df99-d0037f26644a"
   },
   "outputs": [],
   "source": [
    "model"
   ]
  },
  {
   "cell_type": "code",
   "execution_count": null,
   "metadata": {
    "id": "3fVDF68pydtQ"
   },
   "outputs": [],
   "source": [
    "n_epochs = 300\n",
    "initial_lr = 0.1"
   ]
  },
  {
   "cell_type": "code",
   "execution_count": null,
   "metadata": {
    "id": "ssmBCQdpxnqg"
   },
   "outputs": [],
   "source": [
    "loss_fn = nn.CrossEntropyLoss()\n",
    "optimizer = optim.SGD(model.parameters(), lr=initial_lr,\n",
    "                      momentum=0.9, weight_decay=5e-4)\n",
    "scheduler = torch.optim.lr_scheduler.CosineAnnealingLR(optimizer, T_max=300)"
   ]
  },
  {
   "cell_type": "code",
   "execution_count": null,
   "metadata": {
    "colab": {
     "base_uri": "https://localhost:8080/"
    },
    "id": "U-Fl9BcizAQ7",
    "outputId": "6d231ddf-1d66-4cc8-f08e-e7daacc8c30b"
   },
   "outputs": [],
   "source": [
    "model, train_losses, valid_losses = training_loop(model, train_loader, valid_loader, loss_fn, optimizer, n_epochs, scheduler, device)"
   ]
  },
  {
   "cell_type": "code",
   "execution_count": null,
   "metadata": {
    "id": "RoqN2ObxCv0d"
   },
   "outputs": [],
   "source": [
    "torch.save(model.state_dict(), 'resnet18_cinic.pth')"
   ]
  },
  {
   "cell_type": "code",
   "execution_count": null,
   "metadata": {
    "id": "aF7HYPua3Jiu"
   },
   "outputs": [],
   "source": [
    "model, test_loss, test_accuracy = test(model, test_loader, loss_fn, device)\n",
    "print(f'Test loss:{test_loss:.4f} Test accuracy:{test_accuracy * 100:.2f}%')"
   ]
  },
  {
   "cell_type": "code",
   "execution_count": null,
   "metadata": {
    "id": "lp1PREJ-R3Mu"
   },
   "outputs": [],
   "source": [
    "torch.save(model.state_dict(), 'resnet18_cinic_fin.pth')"
   ]
  }
 ],
 "metadata": {
  "accelerator": "GPU",
  "colab": {
   "provenance": []
  },
  "gpuClass": "standard",
  "kernelspec": {
   "display_name": "Python 3 (ipykernel)",
   "language": "python",
   "name": "python3"
  },
  "language_info": {
   "codemirror_mode": {
    "name": "ipython",
    "version": 3
   },
   "file_extension": ".py",
   "mimetype": "text/x-python",
   "name": "python",
   "nbconvert_exporter": "python",
   "pygments_lexer": "ipython3",
   "version": "3.10.6"
  }
 },
 "nbformat": 4,
 "nbformat_minor": 1
}
