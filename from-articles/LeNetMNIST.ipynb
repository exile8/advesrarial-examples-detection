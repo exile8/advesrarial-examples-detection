{
  "cells": [
    {
      "cell_type": "code",
      "execution_count": null,
      "metadata": {
        "id": "i2Oiim5J3IDX"
      },
      "outputs": [],
      "source": [
        "import numpy as np\n",
        "import matplotlib.pyplot as plt\n",
        "import seaborn as sns\n",
        "from tqdm import tqdm\n",
        "import torch\n",
        "import torch.nn as nn\n",
        "import torch.nn.functional as F\n",
        "import torch.optim as optim\n",
        "from torch.utils.data import Dataset, DataLoader\n",
        "import torchvision\n",
        "from torchvision import datasets, transforms"
      ]
    },
    {
      "cell_type": "code",
      "execution_count": null,
      "metadata": {
        "id": "QA_wMoV84IqH"
      },
      "outputs": [],
      "source": [
        "device = 'cuda' if torch.cuda.is_available() else 'cpu'"
      ]
    },
    {
      "cell_type": "code",
      "execution_count": null,
      "metadata": {
        "id": "XHfU-KSWIIWN"
      },
      "outputs": [],
      "source": [
        "#parameters\n",
        "random_seed = 42\n",
        "learning_rate = 0.001\n",
        "batch_size_train = 256\n",
        "batch_size_test = 1000\n",
        "n_epochs = 10\n",
        "\n",
        "img_size = 32"
      ]
    },
    {
      "cell_type": "code",
      "execution_count": null,
      "metadata": {
        "id": "la9CDLoTIaXB"
      },
      "outputs": [],
      "source": [
        "\n",
        "def train(model, train_loader, optimizer, loss_func, device):\n",
        "  '''\n",
        "  training step\n",
        "  '''\n",
        "\n",
        "  model.train()\n",
        "  running_loss = 0\n",
        "  num_correct_pred = 0\n",
        "\n",
        "  for X, y_true in train_loader:\n",
        "    optimizer.zero_grad()\n",
        "    X = X.to(device)\n",
        "    y_true = y_true.to(device)\n",
        "\n",
        "    y_hat, y_hat_probs = model(X)\n",
        "\n",
        "    loss = loss_func(y_hat, y_true)\n",
        "\n",
        "    pred_labels = torch.argmax(y_hat_probs, 1)\n",
        "    num_correct_pred += (pred_labels == y_true).sum()\n",
        "\n",
        "    running_loss += loss.item() * X.size(0)\n",
        "\n",
        "    loss.backward()\n",
        "    optimizer.step()\n",
        "\n",
        "  epoch_loss = running_loss / len(train_loader.dataset)\n",
        "  epoch_accuracy = num_correct_pred / len(train_loader.dataset)\n",
        "  return model, optimizer, epoch_loss, epoch_accuracy"
      ]
    },
    {
      "cell_type": "code",
      "execution_count": null,
      "metadata": {
        "id": "5RfFvMAgZFVf"
      },
      "outputs": [],
      "source": [
        "def test(model, test_loader, loss_fun, device):\n",
        "  '''\n",
        "  test iteration\n",
        "  '''\n",
        "\n",
        "  model.eval()\n",
        "  running_loss = 0\n",
        "  num_correct_pred = 0\n",
        "\n",
        "  for X, y_true in test_loader:\n",
        "    X = X.to(device)\n",
        "    y_true = y_true.to(device)\n",
        "\n",
        "    y_hat, y_hat_probs = model(X)\n",
        "\n",
        "    loss = loss_func(y_hat, y_true)\n",
        "\n",
        "    pred_labels = torch.argmax(y_hat_probs, 1)\n",
        "    num_correct_pred += (pred_labels == y_true).sum()\n",
        "\n",
        "    running_loss += loss.item() * X.size(0)\n",
        "  \n",
        "  epoch_loss = running_loss / len(test_loader.dataset)\n",
        "  epoch_accuracy = num_correct_pred / len(test_loader.dataset)\n",
        "  return model, epoch_loss, epoch_accuracy"
      ]
    },
    {
      "cell_type": "code",
      "execution_count": null,
      "metadata": {
        "id": "mNCfD74waQOL"
      },
      "outputs": [],
      "source": [
        "def training_loop(model, train_loader, test_loader, loss_func, optimizer, epochs, device):\n",
        "\n",
        "  train_losses = []\n",
        "  test_losses = []\n",
        "\n",
        "  for epoch in tqdm(range(epochs), desc='Epoch'):\n",
        "    model, optimizer, train_loss, train_accuracy = train(model, train_loader, optimizer, loss_func, device)\n",
        "    train_losses.append(train_loss)\n",
        "\n",
        "    with torch.no_grad():\n",
        "      model, test_loss, test_accuracy = test(model, test_loader, loss_func, device)\n",
        "      test_losses.append(test_loss)\n",
        "\n",
        "    print(f'train loss:{train_loss:.4f} test_loss:{test_loss:.4f} train_accuracy:{train_accuracy * 100:.2f}% test_accuracy:{test_accuracy * 100:.2f}%')\n",
        "\n",
        "  return model, optimizer, train_losses, test_losses"
      ]
    },
    {
      "cell_type": "code",
      "execution_count": null,
      "metadata": {
        "id": "UdNISNZUtSE7",
        "colab": {
          "base_uri": "https://localhost:8080/"
        },
        "outputId": "1eb220a4-7280-473c-b939-51a614c8cb1b"
      },
      "outputs": [
        {
          "output_type": "stream",
          "name": "stdout",
          "text": [
            "Downloading http://yann.lecun.com/exdb/mnist/train-images-idx3-ubyte.gz\n",
            "Downloading http://yann.lecun.com/exdb/mnist/train-images-idx3-ubyte.gz to ./data/MNIST/raw/train-images-idx3-ubyte.gz\n"
          ]
        },
        {
          "output_type": "stream",
          "name": "stderr",
          "text": [
            "100%|██████████| 9912422/9912422 [00:00<00:00, 86928100.75it/s]\n"
          ]
        },
        {
          "output_type": "stream",
          "name": "stdout",
          "text": [
            "Extracting ./data/MNIST/raw/train-images-idx3-ubyte.gz to ./data/MNIST/raw\n",
            "\n",
            "Downloading http://yann.lecun.com/exdb/mnist/train-labels-idx1-ubyte.gz\n",
            "Downloading http://yann.lecun.com/exdb/mnist/train-labels-idx1-ubyte.gz to ./data/MNIST/raw/train-labels-idx1-ubyte.gz\n"
          ]
        },
        {
          "output_type": "stream",
          "name": "stderr",
          "text": [
            "100%|██████████| 28881/28881 [00:00<00:00, 82237402.46it/s]\n"
          ]
        },
        {
          "output_type": "stream",
          "name": "stdout",
          "text": [
            "Extracting ./data/MNIST/raw/train-labels-idx1-ubyte.gz to ./data/MNIST/raw\n",
            "\n",
            "Downloading http://yann.lecun.com/exdb/mnist/t10k-images-idx3-ubyte.gz\n",
            "Downloading http://yann.lecun.com/exdb/mnist/t10k-images-idx3-ubyte.gz to ./data/MNIST/raw/t10k-images-idx3-ubyte.gz\n"
          ]
        },
        {
          "output_type": "stream",
          "name": "stderr",
          "text": [
            "100%|██████████| 1648877/1648877 [00:00<00:00, 33291091.73it/s]\n"
          ]
        },
        {
          "output_type": "stream",
          "name": "stdout",
          "text": [
            "Extracting ./data/MNIST/raw/t10k-images-idx3-ubyte.gz to ./data/MNIST/raw\n",
            "\n",
            "Downloading http://yann.lecun.com/exdb/mnist/t10k-labels-idx1-ubyte.gz\n",
            "Downloading http://yann.lecun.com/exdb/mnist/t10k-labels-idx1-ubyte.gz to ./data/MNIST/raw/t10k-labels-idx1-ubyte.gz\n"
          ]
        },
        {
          "output_type": "stream",
          "name": "stderr",
          "text": [
            "100%|██████████| 4542/4542 [00:00<00:00, 21550371.91it/s]"
          ]
        },
        {
          "output_type": "stream",
          "name": "stdout",
          "text": [
            "Extracting ./data/MNIST/raw/t10k-labels-idx1-ubyte.gz to ./data/MNIST/raw\n",
            "\n"
          ]
        },
        {
          "output_type": "stream",
          "name": "stderr",
          "text": [
            "\n"
          ]
        }
      ],
      "source": [
        "tf = transforms.Compose([transforms.ToTensor(), transforms.Normalize((0.1307,), (0.3081))])\n",
        "train_data = datasets.MNIST('./data', train=True, download=True, transform=tf)\n",
        "test_data = datasets.MNIST('./data', train=False, download=True, transform=tf)\n",
        "\n",
        "train_loader = DataLoader(train_data, batch_size=batch_size_train, shuffle=True)\n",
        "test_loader = DataLoader(test_data, batch_size=batch_size_test, shuffle=True)"
      ]
    },
    {
      "cell_type": "code",
      "execution_count": null,
      "metadata": {
        "id": "eLBfml37unFc"
      },
      "outputs": [],
      "source": [
        "class LeNet(nn.Module):\n",
        "  def __init__(self):\n",
        "    super(LeNet, self).__init__()\n",
        "\n",
        "    self.conv1 = nn.Conv2d(1, 6, 5, padding=2)\n",
        "    self.subs1 = nn.MaxPool2d(2)\n",
        "    self.conv2 = nn.Conv2d(6, 16, 5)\n",
        "    self.subs2 = nn.MaxPool2d(2)\n",
        "    self.dr1 = nn.Dropout(0.5)\n",
        "    self.fc1= nn.Linear(400, 120)\n",
        "    self.fc2 = nn.Linear(120, 84)\n",
        "    self.dr2 = nn.Dropout(0.5)\n",
        "    self.fc3 = nn.Linear(84, 10)\n",
        "\n",
        "\n",
        "  def forward(self, x):\n",
        "    x = F.relu(self.conv1(x))\n",
        "    x = self.subs1(x)\n",
        "    x = F.relu(self.conv2(x))\n",
        "    x = self.subs2(x)\n",
        "    x = self.dr1(x)\n",
        "    x = x.view(-1, np.prod(x.size()[1:]))\n",
        "    x = F.relu(self.fc1(x))\n",
        "    x = F.relu(self.fc2(x))\n",
        "    x = self.dr2(x)\n",
        "    logits = self.fc3(x)\n",
        "    probabilities = F.softmax(logits, dim=1)\n",
        "    return logits, probabilities"
      ]
    },
    {
      "cell_type": "code",
      "execution_count": null,
      "metadata": {
        "id": "vIT8-WLQx7ij"
      },
      "outputs": [],
      "source": [
        "model = LeNet().to(device)\n",
        "optimizer = optim.Adadelta(model.parameters())\n",
        "loss_func = nn.CrossEntropyLoss()"
      ]
    },
    {
      "cell_type": "code",
      "source": [
        "list(model.children())[-3]"
      ],
      "metadata": {
        "colab": {
          "base_uri": "https://localhost:8080/"
        },
        "id": "xxW4idDz81pA",
        "outputId": "f6ed433e-08c9-4540-e64e-76f53b9593a8"
      },
      "execution_count": null,
      "outputs": [
        {
          "output_type": "execute_result",
          "data": {
            "text/plain": [
              "[Conv2d(1, 6, kernel_size=(5, 5), stride=(1, 1), padding=(2, 2)),\n",
              " MaxPool2d(kernel_size=2, stride=2, padding=0, dilation=1, ceil_mode=False),\n",
              " Conv2d(6, 16, kernel_size=(5, 5), stride=(1, 1)),\n",
              " MaxPool2d(kernel_size=2, stride=2, padding=0, dilation=1, ceil_mode=False),\n",
              " Dropout(p=0.5, inplace=False),\n",
              " Linear(in_features=400, out_features=120, bias=True),\n",
              " Linear(in_features=120, out_features=84, bias=True),\n",
              " Dropout(p=0.5, inplace=False),\n",
              " Linear(in_features=84, out_features=10, bias=True)]"
            ]
          },
          "metadata": {},
          "execution_count": 10
        }
      ]
    },
    {
      "cell_type": "code",
      "execution_count": null,
      "metadata": {
        "colab": {
          "base_uri": "https://localhost:8080/"
        },
        "id": "3mJB2TF_ztOc",
        "outputId": "03a7dfbd-2593-4248-8910-60fe43945c98"
      },
      "outputs": [
        {
          "output_type": "stream",
          "name": "stderr",
          "text": [
            "Epoch:  10%|█         | 1/10 [00:28<04:16, 28.53s/it]"
          ]
        },
        {
          "output_type": "stream",
          "name": "stdout",
          "text": [
            "train loss:0.4957 test_loss:0.0882 train_accuracy:84.36% test_accuracy:97.34%\n"
          ]
        },
        {
          "output_type": "stream",
          "name": "stderr",
          "text": [
            "\rEpoch:  20%|██        | 2/10 [00:43<02:45, 20.65s/it]"
          ]
        },
        {
          "output_type": "stream",
          "name": "stdout",
          "text": [
            "train loss:0.1686 test_loss:0.0651 train_accuracy:95.18% test_accuracy:98.03%\n"
          ]
        },
        {
          "output_type": "stream",
          "name": "stderr",
          "text": [
            "\rEpoch:  30%|███       | 3/10 [00:59<02:08, 18.34s/it]"
          ]
        },
        {
          "output_type": "stream",
          "name": "stdout",
          "text": [
            "train loss:0.1290 test_loss:0.0502 train_accuracy:96.38% test_accuracy:98.44%\n"
          ]
        },
        {
          "output_type": "stream",
          "name": "stderr",
          "text": [
            "\rEpoch:  40%|████      | 4/10 [01:14<01:42, 17.04s/it]"
          ]
        },
        {
          "output_type": "stream",
          "name": "stdout",
          "text": [
            "train loss:0.1123 test_loss:0.0449 train_accuracy:96.88% test_accuracy:98.55%\n"
          ]
        },
        {
          "output_type": "stream",
          "name": "stderr",
          "text": [
            "\rEpoch:  50%|█████     | 5/10 [01:30<01:23, 16.65s/it]"
          ]
        },
        {
          "output_type": "stream",
          "name": "stdout",
          "text": [
            "train loss:0.0987 test_loss:0.0427 train_accuracy:97.24% test_accuracy:98.70%\n"
          ]
        },
        {
          "output_type": "stream",
          "name": "stderr",
          "text": [
            "\rEpoch:  60%|██████    | 6/10 [01:45<01:04, 16.23s/it]"
          ]
        },
        {
          "output_type": "stream",
          "name": "stdout",
          "text": [
            "train loss:0.0895 test_loss:0.0432 train_accuracy:97.46% test_accuracy:98.67%\n"
          ]
        },
        {
          "output_type": "stream",
          "name": "stderr",
          "text": [
            "\rEpoch:  70%|███████   | 7/10 [02:01<00:47, 15.98s/it]"
          ]
        },
        {
          "output_type": "stream",
          "name": "stdout",
          "text": [
            "train loss:0.0831 test_loss:0.0345 train_accuracy:97.72% test_accuracy:98.95%\n"
          ]
        },
        {
          "output_type": "stream",
          "name": "stderr",
          "text": [
            "\rEpoch:  80%|████████  | 8/10 [02:16<00:31, 15.72s/it]"
          ]
        },
        {
          "output_type": "stream",
          "name": "stdout",
          "text": [
            "train loss:0.0789 test_loss:0.0342 train_accuracy:97.81% test_accuracy:99.05%\n"
          ]
        },
        {
          "output_type": "stream",
          "name": "stderr",
          "text": [
            "\rEpoch:  90%|█████████ | 9/10 [02:31<00:15, 15.41s/it]"
          ]
        },
        {
          "output_type": "stream",
          "name": "stdout",
          "text": [
            "train loss:0.0721 test_loss:0.0353 train_accuracy:98.07% test_accuracy:98.97%\n"
          ]
        },
        {
          "output_type": "stream",
          "name": "stderr",
          "text": [
            "Epoch: 100%|██████████| 10/10 [02:45<00:00, 16.60s/it]"
          ]
        },
        {
          "output_type": "stream",
          "name": "stdout",
          "text": [
            "train loss:0.0714 test_loss:0.0323 train_accuracy:98.06% test_accuracy:99.03%\n"
          ]
        },
        {
          "output_type": "stream",
          "name": "stderr",
          "text": [
            "\n"
          ]
        }
      ],
      "source": [
        "model, optimizer, train_losses, test_losses = training_loop(model, train_loader, test_loader, loss_func, optimizer, n_epochs, device)"
      ]
    },
    {
      "cell_type": "code",
      "source": [
        "n_cols = 10\n",
        "n_rows = 2\n",
        "\n",
        "fig = plt.figure(figsize=(10, 3))\n",
        "for index in range(1, n_cols * n_rows + 1):\n",
        "    plt.subplot(n_rows, n_cols, index)\n",
        "    plt.axis('off')\n",
        "    plt.imshow(test_data.data[index], cmap='gray')\n",
        "    \n",
        "    with torch.no_grad():\n",
        "        model.eval()\n",
        "        _, probs = model(test_data[index][0].unsqueeze(0).to(device))\n",
        "        \n",
        "    title = f'{torch.argmax(probs)} ({torch.max(probs * 100):.0f}%)'\n",
        "    \n",
        "    plt.title(title, fontsize=5)\n",
        "fig.suptitle('LeNet-5 with dropout- predictions');"
      ],
      "metadata": {
        "id": "AvbbsBXEeRKs",
        "colab": {
          "base_uri": "https://localhost:8080/",
          "height": 278
        },
        "outputId": "70c993fa-f8db-4d96-e637-c36cb7f02905"
      },
      "execution_count": null,
      "outputs": [
        {
          "output_type": "display_data",
          "data": {
            "text/plain": [
              "<Figure size 1000x300 with 20 Axes>"
            ],
            "image/png": "[encoded data removed]"
          },
          "metadata": {}
        }
      ]
    },
    {
      "cell_type": "code",
      "source": [
        "torch.save(model.state_dict(), 'LeNetDrout.pt')"
      ],
      "metadata": {
        "id": "DeGEUoc1edwF"
      },
      "execution_count": null,
      "outputs": []
    },
    {
      "cell_type": "code",
      "source": [],
      "metadata": {
        "id": "sbc_IYnkm1rr"
      },
      "execution_count": null,
      "outputs": []
    }
  ],
  "metadata": {
    "colab": {
      "provenance": []
    },
    "gpuClass": "standard",
    "kernelspec": {
      "display_name": "Python 3",
      "name": "python3"
    },
    "language_info": {
      "name": "python"
    }
  },
  "nbformat": 4,
  "nbformat_minor": 0
}